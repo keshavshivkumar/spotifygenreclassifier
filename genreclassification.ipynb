{
 "cells": [
  {
   "cell_type": "code",
   "execution_count": 1,
   "metadata": {},
   "outputs": [],
   "source": [
    "import requests\n",
    "import json\n",
    "import numpy as np\n",
    "import pandas as pd\n",
    "import matplotlib.pyplot as plt\n",
    "import scikitplot as skplt\n",
    "from sklearn.preprocessing import StandardScaler\n",
    "from sklearn.model_selection import train_test_split, cross_val_score, GridSearchCV\n",
    "from sklearn.neighbors import KNeighborsClassifier\n",
    "from sklearn.metrics import precision_recall_fscore_support, accuracy_score, classification_report, confusion_matrix, roc_curve, auc\n",
    "from sklearn.linear_model import LogisticRegression\n",
    "from sklearn.ensemble import RandomForestClassifier\n",
    "from sklearn.svm import SVC\n",
    "from sklearn.neural_network import MLPClassifier\n",
    "from collections import OrderedDict"
   ]
  },
  {
   "cell_type": "code",
   "execution_count": 2,
   "metadata": {},
   "outputs": [],
   "source": [
    "#getting the client id and secret\n",
    "clientid='c8257c5ff57c4db788d834e96935e828'\n",
    "clientsecret='952338d6f3a24c1bab5a5a1b0cb73158'\n",
    "authurl='https://accounts.spotify.com/api/token'\n",
    "response=requests.post(authurl,{\n",
    "    'grant_type':'client_credentials',\n",
    "    'client_id':clientid,\n",
    "    'client_secret':clientsecret,\n",
    "})\n",
    "authjson=response.json()\n",
    "accesstoken=authjson['access_token']\n",
    "headers={'Authorization':'Bearer {}'.format(accesstoken)}"
   ]
  },
  {
   "cell_type": "code",
   "execution_count": 3,
   "metadata": {},
   "outputs": [],
   "source": [
    "#using the playlists' songs, we create dataframes with details of the songs, and an extra column, genre\n",
    "def playlistdataframe(playlistid,genre):    \n",
    "    base='https://api.spotify.com/v1/playlists/'\n",
    "    r=requests.get(base+playlistid+'/tracks',headers=headers)\n",
    "    playlist=r.json()\n",
    "    ids=[]\n",
    "    for song in playlist['items']:\n",
    "        if type(playlist['items']) != 'NoneType':\n",
    "            ids.append(song['track']['id'])\n",
    "    playlistids=\",\".join(ids)\n",
    "    r=requests.get(\"https://api.spotify.com/v1/audio-features/?ids={}\".format(playlistids), headers=headers)\n",
    "    details=r.json()\n",
    "    df=pd.DataFrame(details['audio_features'])\n",
    "    df['genre']=genre\n",
    "    return df"
   ]
  },
  {
   "cell_type": "code",
   "execution_count": 6,
   "metadata": {
    "scrolled": true
   },
   "outputs": [],
   "source": [
    "#rock1=playlistdataframe('37i9dQZF1DXcF6B6QPhFDv','rock')\n",
    "rock2=playlistdataframe('37i9dQZF1DWWJOmJ7nRx0C','rock')\n",
    "rock3=playlistdataframe('37i9dQZF1DX82GYcclJ3Ug','rock')\n",
    "rock4=playlistdataframe('37i9dQZF1DWXRqgorJj26U','rock')\n",
    "hiphop1=playlistdataframe('37i9dQZF1DX0XUsuxWHRQd','hip hop')\n",
    "hiphop2=playlistdataframe('37i9dQZF1DWVA1Gq4XHa6U','hip hop')\n",
    "hiphop3=playlistdataframe('37i9dQZF1DX186v583rmzp','hip hop')\n",
    "hiphop4=playlistdataframe('37i9dQZF1DWT5MrZnPU1zD','hip hop')\n",
    "#edm1=playlistdataframe('37i9dQZF1DX4dyzvuaRJ0n','electronic')\n",
    "edm2=playlistdataframe('37i9dQZF1DXaXB8fQg7xif','electronic')\n",
    "edm3=playlistdataframe('37i9dQZF1DWXLeA8Omikj7','electronic')\n",
    "edm4=playlistdataframe('37i9dQZF1DX6VdMW310YC7','electronic')\n",
    "class1=playlistdataframe('37i9dQZF1DWWEJlAGA9gs0','classical')\n",
    "class2=playlistdataframe('37i9dQZF1DWV0gynK7G6pD','classical')\n",
    "class3=playlistdataframe('37i9dQZF1DWVFeEut75IAL','classical')\n",
    "pop1=playlistdataframe('37i9dQZF1DWUa8ZRTfalHk','pop')\n",
    "pop2=playlistdataframe('37i9dQZF1DXbYM3nMM0oPk','pop')\n",
    "pop3=playlistdataframe('37i9dQZF1DX0s5kDXi1oC5','pop')\n",
    "metal1=playlistdataframe('37i9dQZF1DWWOaP4H0w5b0','metal')\n",
    "metal2=playlistdataframe('37i9dQZF1DXakaomPRkkDa','metal')\n",
    "metal3=playlistdataframe('37i9dQZF1DX9qNs32fujYe','metal')"
   ]
  },
  {
   "cell_type": "code",
   "execution_count": 7,
   "metadata": {},
   "outputs": [
    {
     "data": {
      "text/html": [
       "<div>\n",
       "<style scoped>\n",
       "    .dataframe tbody tr th:only-of-type {\n",
       "        vertical-align: middle;\n",
       "    }\n",
       "\n",
       "    .dataframe tbody tr th {\n",
       "        vertical-align: top;\n",
       "    }\n",
       "\n",
       "    .dataframe thead th {\n",
       "        text-align: right;\n",
       "    }\n",
       "</style>\n",
       "<table border=\"1\" class=\"dataframe\">\n",
       "  <thead>\n",
       "    <tr style=\"text-align: right;\">\n",
       "      <th></th>\n",
       "      <th>danceability</th>\n",
       "      <th>energy</th>\n",
       "      <th>key</th>\n",
       "      <th>loudness</th>\n",
       "      <th>mode</th>\n",
       "      <th>speechiness</th>\n",
       "      <th>acousticness</th>\n",
       "      <th>instrumentalness</th>\n",
       "      <th>liveness</th>\n",
       "      <th>valence</th>\n",
       "      <th>tempo</th>\n",
       "      <th>type</th>\n",
       "      <th>id</th>\n",
       "      <th>uri</th>\n",
       "      <th>track_href</th>\n",
       "      <th>analysis_url</th>\n",
       "      <th>duration_ms</th>\n",
       "      <th>time_signature</th>\n",
       "      <th>genre</th>\n",
       "    </tr>\n",
       "  </thead>\n",
       "  <tbody>\n",
       "    <tr>\n",
       "      <th>0</th>\n",
       "      <td>0.540</td>\n",
       "      <td>0.631</td>\n",
       "      <td>8</td>\n",
       "      <td>-4.569</td>\n",
       "      <td>1</td>\n",
       "      <td>0.0336</td>\n",
       "      <td>0.003160</td>\n",
       "      <td>0.000000</td>\n",
       "      <td>0.1040</td>\n",
       "      <td>0.194</td>\n",
       "      <td>84.903</td>\n",
       "      <td>audio_features</td>\n",
       "      <td>6z7mOTf4O20AApGsTNn7fC</td>\n",
       "      <td>spotify:track:6z7mOTf4O20AApGsTNn7fC</td>\n",
       "      <td>https://api.spotify.com/v1/tracks/6z7mOTf4O20A...</td>\n",
       "      <td>https://api.spotify.com/v1/audio-analysis/6z7m...</td>\n",
       "      <td>151989</td>\n",
       "      <td>4</td>\n",
       "      <td>rock</td>\n",
       "    </tr>\n",
       "    <tr>\n",
       "      <th>1</th>\n",
       "      <td>0.544</td>\n",
       "      <td>0.886</td>\n",
       "      <td>0</td>\n",
       "      <td>-2.667</td>\n",
       "      <td>1</td>\n",
       "      <td>0.0381</td>\n",
       "      <td>0.001880</td>\n",
       "      <td>0.000000</td>\n",
       "      <td>0.3240</td>\n",
       "      <td>0.567</td>\n",
       "      <td>104.090</td>\n",
       "      <td>audio_features</td>\n",
       "      <td>0AdfjZjynCi5aVfKcaxGvW</td>\n",
       "      <td>spotify:track:0AdfjZjynCi5aVfKcaxGvW</td>\n",
       "      <td>https://api.spotify.com/v1/tracks/0AdfjZjynCi5...</td>\n",
       "      <td>https://api.spotify.com/v1/audio-analysis/0Adf...</td>\n",
       "      <td>215645</td>\n",
       "      <td>4</td>\n",
       "      <td>rock</td>\n",
       "    </tr>\n",
       "    <tr>\n",
       "      <th>2</th>\n",
       "      <td>0.472</td>\n",
       "      <td>0.811</td>\n",
       "      <td>8</td>\n",
       "      <td>-5.121</td>\n",
       "      <td>1</td>\n",
       "      <td>0.0612</td>\n",
       "      <td>0.000839</td>\n",
       "      <td>0.000143</td>\n",
       "      <td>0.3730</td>\n",
       "      <td>0.637</td>\n",
       "      <td>164.991</td>\n",
       "      <td>audio_features</td>\n",
       "      <td>4v2Bq0xDB7uNN73I5b44Du</td>\n",
       "      <td>spotify:track:4v2Bq0xDB7uNN73I5b44Du</td>\n",
       "      <td>https://api.spotify.com/v1/tracks/4v2Bq0xDB7uN...</td>\n",
       "      <td>https://api.spotify.com/v1/audio-analysis/4v2B...</td>\n",
       "      <td>118733</td>\n",
       "      <td>4</td>\n",
       "      <td>rock</td>\n",
       "    </tr>\n",
       "    <tr>\n",
       "      <th>3</th>\n",
       "      <td>0.536</td>\n",
       "      <td>0.845</td>\n",
       "      <td>2</td>\n",
       "      <td>-5.765</td>\n",
       "      <td>1</td>\n",
       "      <td>0.0615</td>\n",
       "      <td>0.003300</td>\n",
       "      <td>0.000000</td>\n",
       "      <td>0.0465</td>\n",
       "      <td>0.600</td>\n",
       "      <td>159.953</td>\n",
       "      <td>audio_features</td>\n",
       "      <td>3MTfE3Mo3lfwAymYLU2luX</td>\n",
       "      <td>spotify:track:3MTfE3Mo3lfwAymYLU2luX</td>\n",
       "      <td>https://api.spotify.com/v1/tracks/3MTfE3Mo3lfw...</td>\n",
       "      <td>https://api.spotify.com/v1/audio-analysis/3MTf...</td>\n",
       "      <td>208296</td>\n",
       "      <td>4</td>\n",
       "      <td>rock</td>\n",
       "    </tr>\n",
       "    <tr>\n",
       "      <th>4</th>\n",
       "      <td>0.697</td>\n",
       "      <td>0.584</td>\n",
       "      <td>8</td>\n",
       "      <td>-6.429</td>\n",
       "      <td>0</td>\n",
       "      <td>0.0324</td>\n",
       "      <td>0.061600</td>\n",
       "      <td>0.000002</td>\n",
       "      <td>0.0935</td>\n",
       "      <td>0.960</td>\n",
       "      <td>107.083</td>\n",
       "      <td>audio_features</td>\n",
       "      <td>7s42bmqI0kQpoO80H3Vnqu</td>\n",
       "      <td>spotify:track:7s42bmqI0kQpoO80H3Vnqu</td>\n",
       "      <td>https://api.spotify.com/v1/tracks/7s42bmqI0kQp...</td>\n",
       "      <td>https://api.spotify.com/v1/audio-analysis/7s42...</td>\n",
       "      <td>170718</td>\n",
       "      <td>4</td>\n",
       "      <td>rock</td>\n",
       "    </tr>\n",
       "  </tbody>\n",
       "</table>\n",
       "</div>"
      ],
      "text/plain": [
       "   danceability  energy  key  loudness  mode  speechiness  acousticness  \\\n",
       "0         0.540   0.631    8    -4.569     1       0.0336      0.003160   \n",
       "1         0.544   0.886    0    -2.667     1       0.0381      0.001880   \n",
       "2         0.472   0.811    8    -5.121     1       0.0612      0.000839   \n",
       "3         0.536   0.845    2    -5.765     1       0.0615      0.003300   \n",
       "4         0.697   0.584    8    -6.429     0       0.0324      0.061600   \n",
       "\n",
       "   instrumentalness  liveness  valence    tempo            type  \\\n",
       "0          0.000000    0.1040    0.194   84.903  audio_features   \n",
       "1          0.000000    0.3240    0.567  104.090  audio_features   \n",
       "2          0.000143    0.3730    0.637  164.991  audio_features   \n",
       "3          0.000000    0.0465    0.600  159.953  audio_features   \n",
       "4          0.000002    0.0935    0.960  107.083  audio_features   \n",
       "\n",
       "                       id                                   uri  \\\n",
       "0  6z7mOTf4O20AApGsTNn7fC  spotify:track:6z7mOTf4O20AApGsTNn7fC   \n",
       "1  0AdfjZjynCi5aVfKcaxGvW  spotify:track:0AdfjZjynCi5aVfKcaxGvW   \n",
       "2  4v2Bq0xDB7uNN73I5b44Du  spotify:track:4v2Bq0xDB7uNN73I5b44Du   \n",
       "3  3MTfE3Mo3lfwAymYLU2luX  spotify:track:3MTfE3Mo3lfwAymYLU2luX   \n",
       "4  7s42bmqI0kQpoO80H3Vnqu  spotify:track:7s42bmqI0kQpoO80H3Vnqu   \n",
       "\n",
       "                                          track_href  \\\n",
       "0  https://api.spotify.com/v1/tracks/6z7mOTf4O20A...   \n",
       "1  https://api.spotify.com/v1/tracks/0AdfjZjynCi5...   \n",
       "2  https://api.spotify.com/v1/tracks/4v2Bq0xDB7uN...   \n",
       "3  https://api.spotify.com/v1/tracks/3MTfE3Mo3lfw...   \n",
       "4  https://api.spotify.com/v1/tracks/7s42bmqI0kQp...   \n",
       "\n",
       "                                        analysis_url  duration_ms  \\\n",
       "0  https://api.spotify.com/v1/audio-analysis/6z7m...       151989   \n",
       "1  https://api.spotify.com/v1/audio-analysis/0Adf...       215645   \n",
       "2  https://api.spotify.com/v1/audio-analysis/4v2B...       118733   \n",
       "3  https://api.spotify.com/v1/audio-analysis/3MTf...       208296   \n",
       "4  https://api.spotify.com/v1/audio-analysis/7s42...       170718   \n",
       "\n",
       "   time_signature genre  \n",
       "0               4  rock  \n",
       "1               4  rock  \n",
       "2               4  rock  \n",
       "3               4  rock  \n",
       "4               4  rock  "
      ]
     },
     "execution_count": 7,
     "metadata": {},
     "output_type": "execute_result"
    }
   ],
   "source": [
    "#concatenation to make a mega dataframe\n",
    "musicdf=pd.concat([rock3,rock2,rock4,hiphop1,hiphop2,hiphop3,hiphop4,edm2,edm3,edm4,class1,class2,class3,pop1,pop2,pop3,metal1,metal2,metal3])\n",
    "musicdf=musicdf.drop_duplicates(subset=['id'],keep='first')\n",
    "musicdf.head()"
   ]
  },
  {
   "cell_type": "code",
   "execution_count": 8,
   "metadata": {},
   "outputs": [
    {
     "name": "stdout",
     "output_type": "stream",
     "text": [
      "Stored 'X' (DataFrame)\n",
      "Stored 'y' (Series)\n"
     ]
    }
   ],
   "source": [
    "#separating the independent variables from the dependent\n",
    "X=musicdf[['acousticness', 'danceability', 'energy', 'instrumentalness', 'key', 'liveness', 'loudness', 'speechiness', 'tempo', 'time_signature', 'valence']]\n",
    "y=musicdf.genre\n",
    "%store X\n",
    "%store y"
   ]
  },
  {
   "cell_type": "code",
   "execution_count": 9,
   "metadata": {},
   "outputs": [
    {
     "data": {
      "text/html": [
       "<div>\n",
       "<style scoped>\n",
       "    .dataframe tbody tr th:only-of-type {\n",
       "        vertical-align: middle;\n",
       "    }\n",
       "\n",
       "    .dataframe tbody tr th {\n",
       "        vertical-align: top;\n",
       "    }\n",
       "\n",
       "    .dataframe thead th {\n",
       "        text-align: right;\n",
       "    }\n",
       "</style>\n",
       "<table border=\"1\" class=\"dataframe\">\n",
       "  <thead>\n",
       "    <tr style=\"text-align: right;\">\n",
       "      <th></th>\n",
       "      <th>acousticness</th>\n",
       "      <th>danceability</th>\n",
       "      <th>energy</th>\n",
       "      <th>instrumentalness</th>\n",
       "      <th>key</th>\n",
       "      <th>liveness</th>\n",
       "      <th>loudness</th>\n",
       "      <th>speechiness</th>\n",
       "      <th>tempo</th>\n",
       "      <th>time_signature</th>\n",
       "      <th>valence</th>\n",
       "    </tr>\n",
       "  </thead>\n",
       "  <tbody>\n",
       "    <tr>\n",
       "      <th>0</th>\n",
       "      <td>0.003160</td>\n",
       "      <td>0.540</td>\n",
       "      <td>0.631</td>\n",
       "      <td>0.000000</td>\n",
       "      <td>8</td>\n",
       "      <td>0.1040</td>\n",
       "      <td>-4.569</td>\n",
       "      <td>0.0336</td>\n",
       "      <td>84.903</td>\n",
       "      <td>4</td>\n",
       "      <td>0.194</td>\n",
       "    </tr>\n",
       "    <tr>\n",
       "      <th>1</th>\n",
       "      <td>0.001880</td>\n",
       "      <td>0.544</td>\n",
       "      <td>0.886</td>\n",
       "      <td>0.000000</td>\n",
       "      <td>0</td>\n",
       "      <td>0.3240</td>\n",
       "      <td>-2.667</td>\n",
       "      <td>0.0381</td>\n",
       "      <td>104.090</td>\n",
       "      <td>4</td>\n",
       "      <td>0.567</td>\n",
       "    </tr>\n",
       "    <tr>\n",
       "      <th>2</th>\n",
       "      <td>0.000839</td>\n",
       "      <td>0.472</td>\n",
       "      <td>0.811</td>\n",
       "      <td>0.000143</td>\n",
       "      <td>8</td>\n",
       "      <td>0.3730</td>\n",
       "      <td>-5.121</td>\n",
       "      <td>0.0612</td>\n",
       "      <td>164.991</td>\n",
       "      <td>4</td>\n",
       "      <td>0.637</td>\n",
       "    </tr>\n",
       "    <tr>\n",
       "      <th>3</th>\n",
       "      <td>0.003300</td>\n",
       "      <td>0.536</td>\n",
       "      <td>0.845</td>\n",
       "      <td>0.000000</td>\n",
       "      <td>2</td>\n",
       "      <td>0.0465</td>\n",
       "      <td>-5.765</td>\n",
       "      <td>0.0615</td>\n",
       "      <td>159.953</td>\n",
       "      <td>4</td>\n",
       "      <td>0.600</td>\n",
       "    </tr>\n",
       "    <tr>\n",
       "      <th>4</th>\n",
       "      <td>0.061600</td>\n",
       "      <td>0.697</td>\n",
       "      <td>0.584</td>\n",
       "      <td>0.000002</td>\n",
       "      <td>8</td>\n",
       "      <td>0.0935</td>\n",
       "      <td>-6.429</td>\n",
       "      <td>0.0324</td>\n",
       "      <td>107.083</td>\n",
       "      <td>4</td>\n",
       "      <td>0.960</td>\n",
       "    </tr>\n",
       "  </tbody>\n",
       "</table>\n",
       "</div>"
      ],
      "text/plain": [
       "   acousticness  danceability  energy  instrumentalness  key  liveness  \\\n",
       "0      0.003160         0.540   0.631          0.000000    8    0.1040   \n",
       "1      0.001880         0.544   0.886          0.000000    0    0.3240   \n",
       "2      0.000839         0.472   0.811          0.000143    8    0.3730   \n",
       "3      0.003300         0.536   0.845          0.000000    2    0.0465   \n",
       "4      0.061600         0.697   0.584          0.000002    8    0.0935   \n",
       "\n",
       "   loudness  speechiness    tempo  time_signature  valence  \n",
       "0    -4.569       0.0336   84.903               4    0.194  \n",
       "1    -2.667       0.0381  104.090               4    0.567  \n",
       "2    -5.121       0.0612  164.991               4    0.637  \n",
       "3    -5.765       0.0615  159.953               4    0.600  \n",
       "4    -6.429       0.0324  107.083               4    0.960  "
      ]
     },
     "execution_count": 9,
     "metadata": {},
     "output_type": "execute_result"
    }
   ],
   "source": [
    "#standardizing the values to make better predictions\n",
    "standardized_df=StandardScaler().fit_transform(X)\n",
    "scaledmusicdf=pd.DataFrame(X,columns=X.columns)\n",
    "scaledmusicdf.head()"
   ]
  },
  {
   "cell_type": "code",
   "execution_count": 10,
   "metadata": {},
   "outputs": [],
   "source": [
    "#split up of the training and testing data\n",
    "X_train, X_test, y_train, y_test=train_test_split(scaledmusicdf, y, test_size=0.2, random_state=4)"
   ]
  },
  {
   "cell_type": "code",
   "execution_count": 11,
   "metadata": {},
   "outputs": [
    {
     "name": "stdout",
     "output_type": "stream",
     "text": [
      "Best accuracy: 0.4492307692307692\n",
      "Best K value: 4\n",
      "0.4492307692307692\n",
      "(0.4492307692307692, 0.4492307692307692, 0.4492307692307692, None)\n",
      "[[38  3  0  0  0  0]\n",
      " [ 7 34  5  3  3  6]\n",
      " [ 1  6 32  7 10  5]\n",
      " [ 0  7 10 24  4  9]\n",
      " [ 0 13 16  8  4  6]\n",
      " [ 0 13 16 14  7 14]]\n",
      "              precision    recall  f1-score   support\n",
      "\n",
      "   classical       0.83      0.93      0.87        41\n",
      "  electronic       0.45      0.59      0.51        58\n",
      "     hip hop       0.41      0.52      0.46        61\n",
      "       metal       0.43      0.44      0.44        54\n",
      "         pop       0.14      0.09      0.11        47\n",
      "        rock       0.35      0.22      0.27        64\n",
      "\n",
      "    accuracy                           0.45       325\n",
      "   macro avg       0.43      0.46      0.44       325\n",
      "weighted avg       0.42      0.45      0.43       325\n",
      "\n"
     ]
    }
   ],
   "source": [
    "#KNN: finding the best k value\n",
    "acc=0\n",
    "best_k=0\n",
    "ypred=0\n",
    "for i in range(1, 50):\n",
    "    knn=KNeighborsClassifier(n_neighbors=i).fit(X_train, y_train)\n",
    "    yhat=knn.predict(X_test)\n",
    "    knnacc=accuracy_score(y_test, yhat)\n",
    "    if knnacc>acc:\n",
    "        acc=knnacc\n",
    "        best_k=i\n",
    "        ypred=yhat\n",
    "print(\"Best accuracy: {}\\nBest K value: {}\".format(acc, best_k))\n",
    "knnpred=KNeighborsClassifier(n_neighbors=best_k)\n",
    "knnpred.fit(X_train, y_train)\n",
    "print(knnpred.score(X_test, y_test))\n",
    "print(precision_recall_fscore_support(y_test, ypred, average='micro'))\n",
    "print(confusion_matrix(y_test, ypred))\n",
    "print(classification_report(y_test,ypred))"
   ]
  },
  {
   "cell_type": "code",
   "execution_count": 12,
   "metadata": {},
   "outputs": [
    {
     "name": "stdout",
     "output_type": "stream",
     "text": [
      "0.7230769230769231\n",
      "[[38  3  0  0  0  0]\n",
      " [ 5 43  3  2  2  3]\n",
      " [ 0  0 53  0  8  0]\n",
      " [ 0  0  0 44  0 10]\n",
      " [ 1  1 11  0 29  5]\n",
      " [ 0  8  2 19  7 28]]\n",
      "              precision    recall  f1-score   support\n",
      "\n",
      "   classical       0.86      0.93      0.89        41\n",
      "  electronic       0.78      0.74      0.76        58\n",
      "     hip hop       0.77      0.87      0.82        61\n",
      "       metal       0.68      0.81      0.74        54\n",
      "         pop       0.63      0.62      0.62        47\n",
      "        rock       0.61      0.44      0.51        64\n",
      "\n",
      "    accuracy                           0.72       325\n",
      "   macro avg       0.72      0.73      0.72       325\n",
      "weighted avg       0.72      0.72      0.71       325\n",
      "\n"
     ]
    }
   ],
   "source": [
    "#random forest classification\n",
    "forestpred=RandomForestClassifier(n_estimators=100, max_depth=6)\n",
    "forestpred.fit(X_train, y_train)\n",
    "print(forestpred.score(X_test, y_test))\n",
    "randomforest=forestpred.predict(X_test)\n",
    "print(confusion_matrix(y_test,randomforest))\n",
    "print(classification_report(y_test, randomforest))"
   ]
  },
  {
   "cell_type": "code",
   "execution_count": 13,
   "metadata": {},
   "outputs": [
    {
     "name": "stdout",
     "output_type": "stream",
     "text": [
      "0.6738461538461539\n",
      "[[39  2  0  0  0  0]\n",
      " [ 4 35  7  3  1  8]\n",
      " [ 0  1 52  0  6  2]\n",
      " [ 0  1  0 45  0  8]\n",
      " [ 1  1 10  1 21 13]\n",
      " [ 0  3  2 21 11 27]]\n",
      "              precision    recall  f1-score   support\n",
      "\n",
      "   classical       0.89      0.95      0.92        41\n",
      "  electronic       0.81      0.60      0.69        58\n",
      "     hip hop       0.73      0.85      0.79        61\n",
      "       metal       0.64      0.83      0.73        54\n",
      "         pop       0.54      0.45      0.49        47\n",
      "        rock       0.47      0.42      0.44        64\n",
      "\n",
      "    accuracy                           0.67       325\n",
      "   macro avg       0.68      0.68      0.68       325\n",
      "weighted avg       0.67      0.67      0.67       325\n",
      "\n"
     ]
    }
   ],
   "source": [
    "#logistic regression classification\n",
    "logpred=LogisticRegression(solver='lbfgs', max_iter=10000)\n",
    "logpred.fit(X_train, y_train)\n",
    "logpredict=logpred.predict(X_test)\n",
    "print(logpred.score(X_test, y_test))\n",
    "print(confusion_matrix(y_test,logpredict))\n",
    "print(classification_report(y_test, logpredict))"
   ]
  },
  {
   "cell_type": "code",
   "execution_count": 14,
   "metadata": {},
   "outputs": [
    {
     "data": {
      "text/plain": [
       "0.6707692307692308"
      ]
     },
     "execution_count": 14,
     "metadata": {},
     "output_type": "execute_result"
    }
   ],
   "source": [
    "#SVM\n",
    "svmpred=SVC(kernel='linear')\n",
    "svmpred.fit(X_train, y_train)\n",
    "svmpred.score(X_test, y_test)"
   ]
  },
  {
   "cell_type": "code",
   "execution_count": 15,
   "metadata": {},
   "outputs": [
    {
     "data": {
      "text/plain": [
       "0.5938461538461538"
      ]
     },
     "execution_count": 15,
     "metadata": {},
     "output_type": "execute_result"
    }
   ],
   "source": [
    "#neural networks\n",
    "nnpred=MLPClassifier(hidden_layer_sizes=600)\n",
    "nnpred.fit(X_train, y_train)\n",
    "nnpred.score(X_test, y_test)"
   ]
  },
  {
   "cell_type": "code",
   "execution_count": 16,
   "metadata": {},
   "outputs": [
    {
     "name": "stderr",
     "output_type": "stream",
     "text": [
      "c:\\users\\lenovo\\appdata\\local\\programs\\python\\python38\\lib\\site-packages\\sklearn\\neural_network\\_multilayer_perceptron.py:582: ConvergenceWarning: Stochastic Optimizer: Maximum iterations (200) reached and the optimization hasn't converged yet.\n",
      "  warnings.warn(\n",
      "c:\\users\\lenovo\\appdata\\local\\programs\\python\\python38\\lib\\site-packages\\sklearn\\neural_network\\_multilayer_perceptron.py:582: ConvergenceWarning: Stochastic Optimizer: Maximum iterations (200) reached and the optimization hasn't converged yet.\n",
      "  warnings.warn(\n",
      "c:\\users\\lenovo\\appdata\\local\\programs\\python\\python38\\lib\\site-packages\\sklearn\\neural_network\\_multilayer_perceptron.py:582: ConvergenceWarning: Stochastic Optimizer: Maximum iterations (200) reached and the optimization hasn't converged yet.\n",
      "  warnings.warn(\n"
     ]
    },
    {
     "data": {
      "text/html": [
       "<div>\n",
       "<style scoped>\n",
       "    .dataframe tbody tr th:only-of-type {\n",
       "        vertical-align: middle;\n",
       "    }\n",
       "\n",
       "    .dataframe tbody tr th {\n",
       "        vertical-align: top;\n",
       "    }\n",
       "\n",
       "    .dataframe thead th {\n",
       "        text-align: right;\n",
       "    }\n",
       "</style>\n",
       "<table border=\"1\" class=\"dataframe\">\n",
       "  <thead>\n",
       "    <tr style=\"text-align: right;\">\n",
       "      <th></th>\n",
       "      <th>1</th>\n",
       "      <th>2</th>\n",
       "      <th>3</th>\n",
       "      <th>4</th>\n",
       "      <th>5</th>\n",
       "      <th>6</th>\n",
       "      <th>7</th>\n",
       "      <th>8</th>\n",
       "      <th>9</th>\n",
       "      <th>10</th>\n",
       "      <th>Mean</th>\n",
       "    </tr>\n",
       "  </thead>\n",
       "  <tbody>\n",
       "    <tr>\n",
       "      <th>KNN</th>\n",
       "      <td>0.407692</td>\n",
       "      <td>0.469231</td>\n",
       "      <td>0.484615</td>\n",
       "      <td>0.338462</td>\n",
       "      <td>0.507692</td>\n",
       "      <td>0.530769</td>\n",
       "      <td>0.515385</td>\n",
       "      <td>0.438462</td>\n",
       "      <td>0.503876</td>\n",
       "      <td>0.395349</td>\n",
       "      <td>0.459153</td>\n",
       "    </tr>\n",
       "    <tr>\n",
       "      <th>Random Forest</th>\n",
       "      <td>0.676923</td>\n",
       "      <td>0.715385</td>\n",
       "      <td>0.715385</td>\n",
       "      <td>0.723077</td>\n",
       "      <td>0.807692</td>\n",
       "      <td>0.784615</td>\n",
       "      <td>0.730769</td>\n",
       "      <td>0.723077</td>\n",
       "      <td>0.751938</td>\n",
       "      <td>0.658915</td>\n",
       "      <td>0.728778</td>\n",
       "    </tr>\n",
       "    <tr>\n",
       "      <th>Logistic</th>\n",
       "      <td>0.684615</td>\n",
       "      <td>0.700000</td>\n",
       "      <td>0.700000</td>\n",
       "      <td>0.700000</td>\n",
       "      <td>0.815385</td>\n",
       "      <td>0.753846</td>\n",
       "      <td>0.776923</td>\n",
       "      <td>0.746154</td>\n",
       "      <td>0.736434</td>\n",
       "      <td>0.674419</td>\n",
       "      <td>0.728778</td>\n",
       "    </tr>\n",
       "    <tr>\n",
       "      <th>SVM</th>\n",
       "      <td>0.676923</td>\n",
       "      <td>0.692308</td>\n",
       "      <td>0.676923</td>\n",
       "      <td>0.700000</td>\n",
       "      <td>0.792308</td>\n",
       "      <td>0.746154</td>\n",
       "      <td>0.769231</td>\n",
       "      <td>0.761538</td>\n",
       "      <td>0.736434</td>\n",
       "      <td>0.666667</td>\n",
       "      <td>0.721849</td>\n",
       "    </tr>\n",
       "    <tr>\n",
       "      <th>NN</th>\n",
       "      <td>0.569231</td>\n",
       "      <td>0.653846</td>\n",
       "      <td>0.661538</td>\n",
       "      <td>0.646154</td>\n",
       "      <td>0.792308</td>\n",
       "      <td>0.738462</td>\n",
       "      <td>0.723077</td>\n",
       "      <td>0.700000</td>\n",
       "      <td>0.728682</td>\n",
       "      <td>0.658915</td>\n",
       "      <td>0.687221</td>\n",
       "    </tr>\n",
       "  </tbody>\n",
       "</table>\n",
       "</div>"
      ],
      "text/plain": [
       "                      1         2         3         4         5         6  \\\n",
       "KNN            0.407692  0.469231  0.484615  0.338462  0.507692  0.530769   \n",
       "Random Forest  0.676923  0.715385  0.715385  0.723077  0.807692  0.784615   \n",
       "Logistic       0.684615  0.700000  0.700000  0.700000  0.815385  0.753846   \n",
       "SVM            0.676923  0.692308  0.676923  0.700000  0.792308  0.746154   \n",
       "NN             0.569231  0.653846  0.661538  0.646154  0.792308  0.738462   \n",
       "\n",
       "                      7         8         9        10      Mean  \n",
       "KNN            0.515385  0.438462  0.503876  0.395349  0.459153  \n",
       "Random Forest  0.730769  0.723077  0.751938  0.658915  0.728778  \n",
       "Logistic       0.776923  0.746154  0.736434  0.674419  0.728778  \n",
       "SVM            0.769231  0.761538  0.736434  0.666667  0.721849  \n",
       "NN             0.723077  0.700000  0.728682  0.658915  0.687221  "
      ]
     },
     "execution_count": 16,
     "metadata": {},
     "output_type": "execute_result"
    }
   ],
   "source": [
    "#summary of the used classifiers with 10 instances\n",
    "classifiers=[knnpred, forestpred, logpred, svmpred, nnpred]\n",
    "modelresult=[]\n",
    "for i in classifiers:\n",
    "    modelresult.append(cross_val_score(i, X_train, y_train, scoring='accuracy', cv=10))\n",
    "modeldf=pd.DataFrame(modelresult, columns=[x for x in range(1,11)], index=[\"KNN\", \"Random Forest\", \"Logistic\", \"SVM\", \"NN\"])\n",
    "modeldf[\"Mean\"] = modeldf.mean(axis=1)\n",
    "modeldf"
   ]
  },
  {
   "cell_type": "code",
   "execution_count": 17,
   "metadata": {
    "scrolled": true
   },
   "outputs": [
    {
     "name": "stdout",
     "output_type": "stream",
     "text": [
      "{'algorithm': 'auto', 'leaf_size': 1, 'n_jobs': -1, 'weights': 'uniform'}\n",
      "Training best: 0.6302003081664098\n",
      "Testing best: 0.4492307692307692\n"
     ]
    }
   ],
   "source": [
    "#hyperparameter tuning for knn\n",
    "knn=KNeighborsClassifier(n_neighbors=best_k, n_jobs=-1)\n",
    "params={'leaf_size':[1,2,3,4,5], 'weights':['uniform','distance'], 'algorithm':['auto','ball_tree','brute'],'n_jobs':[-1]}\n",
    "knnmodel=GridSearchCV(knn, param_grid=params,n_jobs=1)\n",
    "knnmodel.fit(X_train, y_train)\n",
    "knnbest=knnmodel.best_params_\n",
    "print(knnbest)\n",
    "print(f\"Training best: {knnmodel.score(X_train, y_train)}\\nTesting best: {knnmodel.score(X_test, y_test)}\")"
   ]
  },
  {
   "cell_type": "code",
   "execution_count": 18,
   "metadata": {},
   "outputs": [
    {
     "name": "stdout",
     "output_type": "stream",
     "text": [
      "{'criterion': 'entropy', 'min_samples_leaf': 1, 'min_samples_split': 6, 'n_estimators': 25, 'n_jobs': -1, 'random_state': 123}\n",
      "Training best: 0.9815100154083205\n",
      "Testing best: 0.7046153846153846\n"
     ]
    }
   ],
   "source": [
    "#hyperparameter tuning for random forest\n",
    "forest=RandomForestClassifier()\n",
    "params={'criterion':['gini', 'entropy'],'n_estimators':[5,10,15,20,25], 'min_samples_leaf':[1,2,3],\n",
    "        'min_samples_split':[3,4,5,6,7],'random_state':[123],'n_jobs':[-1]}\n",
    "forestmodel=GridSearchCV(forest,param_grid=params,n_jobs=-1)\n",
    "forestmodel.fit(X_train,y_train)\n",
    "forestbest=forestmodel.best_params_\n",
    "print(forestbest)\n",
    "print(f\"Training best: {forestmodel.score(X_train, y_train)}\\nTesting best: {forestmodel.score(X_test, y_test)}\")"
   ]
  },
  {
   "cell_type": "code",
   "execution_count": 19,
   "metadata": {
    "scrolled": true
   },
   "outputs": [
    {
     "name": "stdout",
     "output_type": "stream",
     "text": [
      "{'C': 100.0, 'penalty': 'l2', 'solver': 'newton-cg'}\n",
      "Training best: 0.7542372881355932\n",
      "Testing best: 0.6707692307692308\n"
     ]
    }
   ],
   "source": [
    "#hyperparameter tuning for logistic regression\n",
    "logregression=LogisticRegression(max_iter=100000)\n",
    "params={'C':np.logspace(-3,3,7), 'solver' : ['newton-cg', 'lbfgs', 'liblinear', 'sag', 'saga'], 'penalty':['l2']}\n",
    "logmodel=GridSearchCV(logregression, param_grid=params, cv=3)\n",
    "logmodel.fit(X_train, y_train)\n",
    "logbest=logmodel.best_params_\n",
    "print(logbest)\n",
    "print(f\"Training best: {logmodel.score(X_train, y_train)}\\nTesting best: {logmodel.score(X_test, y_test)}\")"
   ]
  },
  {
   "cell_type": "code",
   "execution_count": 20,
   "metadata": {
    "scrolled": true
   },
   "outputs": [
    {
     "name": "stdout",
     "output_type": "stream",
     "text": [
      "Fitting 3 folds for each of 40 candidates, totalling 120 fits\n"
     ]
    },
    {
     "name": "stderr",
     "output_type": "stream",
     "text": [
      "[Parallel(n_jobs=-1)]: Using backend LokyBackend with 4 concurrent workers.\n",
      "[Parallel(n_jobs=-1)]: Batch computation too fast (0.0698s.) Setting batch_size=2.\n",
      "[Parallel(n_jobs=-1)]: Done   5 tasks      | elapsed:    0.1s\n",
      "[Parallel(n_jobs=-1)]: Done  12 tasks      | elapsed:    0.3s\n",
      "[Parallel(n_jobs=-1)]: Done  26 tasks      | elapsed:    0.7s\n",
      "[Parallel(n_jobs=-1)]: Done  40 tasks      | elapsed:    1.1s\n",
      "[Parallel(n_jobs=-1)]: Done  58 tasks      | elapsed:    2.4s\n",
      "[Parallel(n_jobs=-1)]: Done  76 tasks      | elapsed:    5.8s\n",
      "[Parallel(n_jobs=-1)]: Batch computation too slow (2.0622s.) Setting batch_size=1.\n",
      "[Parallel(n_jobs=-1)]: Done  97 tasks      | elapsed:   12.8s\n",
      "[Parallel(n_jobs=-1)]: Done 108 tasks      | elapsed:   41.2s\n",
      "[Parallel(n_jobs=-1)]: Done 120 out of 120 | elapsed:  1.0min finished\n"
     ]
    },
    {
     "name": "stdout",
     "output_type": "stream",
     "text": [
      "{'C': 10, 'gamma': 0.001, 'kernel': 'linear'}\n",
      "Training best: 0.7573189522342064\n",
      "Testing best: 0.6953846153846154\n"
     ]
    }
   ],
   "source": [
    "#hyperparameter tuning for SVM\n",
    "svm=SVC()\n",
    "params={'C':[0.001, 0.01, 0.1, 1, 10], 'gamma':[0.001, 0.01, 0.1, 1], 'kernel': ['linear', 'rbf']} #poly and sigmoid take too long\n",
    "svmmodel=GridSearchCV(svm, param_grid=params, refit=True, scoring='accuracy', verbose=10, cv=3, n_jobs=-1)\n",
    "svmmodel.fit(X_train, y_train)\n",
    "svmbest=svmmodel.best_params_\n",
    "print(svmbest)\n",
    "print(f\"Training best: {svmmodel.score(X_train, y_train)}\\nTesting best: {svmmodel.score(X_test, y_test)}\")"
   ]
  },
  {
   "cell_type": "code",
   "execution_count": 21,
   "metadata": {},
   "outputs": [
    {
     "name": "stdout",
     "output_type": "stream",
     "text": [
      "{'activation': 'tanh', 'alpha': 1e-06, 'hidden_layer_sizes': 400}\n",
      "Training best: 0.7110939907550077\n",
      "Testing best: 0.6369230769230769\n"
     ]
    }
   ],
   "source": [
    "#hyperparameter tuning for neural networks\n",
    "nn=MLPClassifier()\n",
    "params = {'alpha': 10.0**(-np.arange(1, 10)), 'hidden_layer_sizes':[200, 400, 600, 800, 1000], \n",
    "          'activation': ['relu', 'tanh', 'logistic']}\n",
    "nnmodel=GridSearchCV(nn, param_grid=params, n_jobs=-1, scoring='accuracy', cv=3)\n",
    "nnmodel.fit(X_train, y_train)\n",
    "nnbest=nnmodel.best_params_\n",
    "print(nnbest)\n",
    "print(f\"Training best: {nnmodel.score(X_train, y_train)}\\nTesting best: {nnmodel.score(X_test, y_test)}\")"
   ]
  },
  {
   "cell_type": "code",
   "execution_count": 22,
   "metadata": {},
   "outputs": [
    {
     "name": "stderr",
     "output_type": "stream",
     "text": [
      "c:\\users\\lenovo\\appdata\\local\\programs\\python\\python38\\lib\\site-packages\\sklearn\\neural_network\\_multilayer_perceptron.py:582: ConvergenceWarning: Stochastic Optimizer: Maximum iterations (200) reached and the optimization hasn't converged yet.\n",
      "  warnings.warn(\n"
     ]
    },
    {
     "data": {
      "text/html": [
       "<div>\n",
       "<style scoped>\n",
       "    .dataframe tbody tr th:only-of-type {\n",
       "        vertical-align: middle;\n",
       "    }\n",
       "\n",
       "    .dataframe tbody tr th {\n",
       "        vertical-align: top;\n",
       "    }\n",
       "\n",
       "    .dataframe thead th {\n",
       "        text-align: right;\n",
       "    }\n",
       "</style>\n",
       "<table border=\"1\" class=\"dataframe\">\n",
       "  <thead>\n",
       "    <tr style=\"text-align: right;\">\n",
       "      <th></th>\n",
       "      <th>1</th>\n",
       "      <th>2</th>\n",
       "      <th>3</th>\n",
       "      <th>Mean</th>\n",
       "    </tr>\n",
       "  </thead>\n",
       "  <tbody>\n",
       "    <tr>\n",
       "      <th>KNN</th>\n",
       "      <td>0.468822</td>\n",
       "      <td>0.438799</td>\n",
       "      <td>0.479167</td>\n",
       "      <td>0.462263</td>\n",
       "    </tr>\n",
       "    <tr>\n",
       "      <th>Random Forest</th>\n",
       "      <td>0.706697</td>\n",
       "      <td>0.766744</td>\n",
       "      <td>0.738426</td>\n",
       "      <td>0.737289</td>\n",
       "    </tr>\n",
       "    <tr>\n",
       "      <th>Logistic</th>\n",
       "      <td>0.683603</td>\n",
       "      <td>0.775982</td>\n",
       "      <td>0.731481</td>\n",
       "      <td>0.730355</td>\n",
       "    </tr>\n",
       "    <tr>\n",
       "      <th>SVM</th>\n",
       "      <td>0.681293</td>\n",
       "      <td>0.769053</td>\n",
       "      <td>0.740741</td>\n",
       "      <td>0.730362</td>\n",
       "    </tr>\n",
       "    <tr>\n",
       "      <th>NN</th>\n",
       "      <td>0.623557</td>\n",
       "      <td>0.736721</td>\n",
       "      <td>0.696759</td>\n",
       "      <td>0.685679</td>\n",
       "    </tr>\n",
       "  </tbody>\n",
       "</table>\n",
       "</div>"
      ],
      "text/plain": [
       "                      1         2         3      Mean\n",
       "KNN            0.468822  0.438799  0.479167  0.462263\n",
       "Random Forest  0.706697  0.766744  0.738426  0.737289\n",
       "Logistic       0.683603  0.775982  0.731481  0.730355\n",
       "SVM            0.681293  0.769053  0.740741  0.730362\n",
       "NN             0.623557  0.736721  0.696759  0.685679"
      ]
     },
     "execution_count": 22,
     "metadata": {},
     "output_type": "execute_result"
    }
   ],
   "source": [
    "#summary of the best versions of each classifier for 10 instances\n",
    "knnfinal=KNeighborsClassifier(leaf_size=knnbest['leaf_size'], n_neighbors=21, algorithm=knnbest['algorithm'], \n",
    "                              weights=knnbest['weights'])\n",
    "forestfinal=RandomForestClassifier(criterion=forestbest['criterion'], min_samples_split=forestbest['min_samples_split'], \n",
    "                                   min_samples_leaf=forestbest['min_samples_leaf'], n_estimators=forestbest['n_estimators'],\n",
    "                                   random_state=0)\n",
    "logfinal=LogisticRegression(max_iter=100000, C=logbest['C'], solver=logbest['solver'])\n",
    "svmfinal=SVC(kernel=svmbest['kernel'], gamma=svmbest['gamma'], C=svmbest['C'])\n",
    "nnfinal=MLPClassifier(activation=nnbest['activation'], alpha=nnbest['alpha'], hidden_layer_sizes=nnbest['hidden_layer_sizes'])\n",
    "\n",
    "\n",
    "classifiers=[knnfinal, forestfinal, logfinal, svmfinal, nnfinal]\n",
    "results=[]\n",
    "for i in classifiers:\n",
    "    results.append(cross_val_score(i, X_train, y_train, scoring='accuracy', cv=3))\n",
    "finaldf=pd.DataFrame(results, columns=[x for x in range(1,4)], index=[\"KNN\", \"Random Forest\", \"Logistic\", \"SVM\", \"NN\"])\n",
    "finaldf[\"Mean\"] = finaldf.mean(axis=1)\n",
    "finaldf\n",
    "#Random Forest is the best, so let's use it for predictions\n",
    "#future scope would involve boosting"
   ]
  },
  {
   "cell_type": "code",
   "execution_count": 23,
   "metadata": {},
   "outputs": [],
   "source": [
    "#insert playlist id\n",
    "trial=playlistdataframe('3aFp6OcR1rukcTX0A8ppxe',0)"
   ]
  },
  {
   "cell_type": "code",
   "execution_count": 24,
   "metadata": {},
   "outputs": [],
   "source": [
    "#extracting categories from the mega dataframe\n",
    "categories=pd.factorize(musicdf['genre'])[1]\n",
    "converter=OrderedDict()\n",
    "for i in range(len(categories)):\n",
    "    converter[i]=categories[i]"
   ]
  },
  {
   "cell_type": "code",
   "execution_count": 25,
   "metadata": {},
   "outputs": [
    {
     "data": {
      "text/plain": [
       "RandomForestClassifier(criterion='entropy', min_samples_split=6,\n",
       "                       n_estimators=25, random_state=0)"
      ]
     },
     "execution_count": 25,
     "metadata": {},
     "output_type": "execute_result"
    }
   ],
   "source": [
    "#factorizing the genre column; making it numerical for categorization\n",
    "genres=pd.factorize(y)[0]\n",
    "forestfinal.fit(X, genres)"
   ]
  },
  {
   "cell_type": "code",
   "execution_count": 26,
   "metadata": {},
   "outputs": [],
   "source": [
    "#predicting genres for the given features of the playlist's songs\n",
    "finalX=trial[['acousticness', 'danceability', 'energy', 'instrumentalness', 'key', 'liveness', 'loudness', 'speechiness', 'tempo', 'time_signature', 'valence']]\n",
    "predictions=forestfinal.predict(finalX)"
   ]
  },
  {
   "cell_type": "code",
   "execution_count": 27,
   "metadata": {},
   "outputs": [
    {
     "name": "stdout",
     "output_type": "stream",
     "text": [
      "[[0.44622222 0.00666667 0.026      0.         0.         0.52111111]\n",
      " [0.19188889 0.47825397 0.12634921 0.         0.19850794 0.005     ]\n",
      " [0.29704762 0.         0.         0.         0.01       0.69295238]\n",
      " [0.59073016 0.         0.21866667 0.         0.096      0.09460317]\n",
      " [0.21466667 0.27548718 0.01942857 0.         0.43041758 0.06      ]\n",
      " [0.50371429 0.         0.         0.         0.         0.49628571]\n",
      " [0.         0.35488889 0.024      0.         0.62111111 0.        ]\n",
      " [0.42811111 0.         0.06666667 0.         0.10698413 0.3982381 ]\n",
      " [0.20409524 0.03555556 0.         0.         0.016      0.74434921]\n",
      " [0.30666667 0.         0.         0.         0.         0.69333333]\n",
      " [0.57666667 0.         0.02666667 0.         0.02       0.37666667]\n",
      " [0.22466667 0.15333333 0.27704762 0.         0.33828571 0.00666667]\n",
      " [0.34185714 0.         0.05555556 0.         0.         0.6025873 ]\n",
      " [0.08904762 0.55709524 0.024      0.         0.32985714 0.        ]\n",
      " [0.21047619 0.03       0.65819048 0.         0.08333333 0.018     ]\n",
      " [0.34595238 0.04       0.25404762 0.02       0.15666667 0.18333333]\n",
      " [0.02121212 0.94       0.         0.         0.01333333 0.02545455]\n",
      " [0.34054545 0.         0.         0.         0.         0.65945455]\n",
      " [0.01333333 0.71666667 0.         0.         0.27       0.        ]\n",
      " [0.01       0.         0.54677778 0.40322222 0.04       0.        ]]\n"
     ]
    }
   ],
   "source": [
    "#probabilities of the predictions\n",
    "predprob=forestfinal.predict_proba(finalX)\n",
    "print(predprob)"
   ]
  },
  {
   "cell_type": "code",
   "execution_count": 28,
   "metadata": {},
   "outputs": [],
   "source": [
    "#converting the numerical predictions into categorical\n",
    "predicted_genres = [converter[prediction] for prediction in predictions]\n",
    "trial['genre']=predicted_genres"
   ]
  },
  {
   "cell_type": "code",
   "execution_count": 29,
   "metadata": {},
   "outputs": [
    {
     "name": "stdout",
     "output_type": "stream",
     "text": [
      "['Stranded', 'Tequila Shots', '¡Viva La Gloria!', 'All I Wanted', 'Famous', 'Days Go By', 'It Ain’t Me (with Selena Gomez)', 'Cautious', 'Gods & Machines', 'Whiskey In The Jar', 'When You Know', 'Loner', 'Plush - 2017 Remaster', 'No Sleep Till Brooklyn', 'Sweater Weather', 'Heart-Shaped Box', 'Errbody', 'The Other Half Of Me', 'Futsal Shuffle 2020 - Bonus Track', 'Symphony No.25 in G minor, K.183: 1. Allegro con brio']\n"
     ]
    }
   ],
   "source": [
    "r=requests.get('https://api.spotify.com/v1/playlists/3aFp6OcR1rukcTX0A8ppxe/tracks', headers=headers)\n",
    "details=r.json()\n",
    "songnames=[]\n",
    "for i in range(len(details['items'])):\n",
    "    songdetails=details['items'][i]['track']['name']\n",
    "    songnames.append(songdetails)\n",
    "print(songnames)"
   ]
  },
  {
   "cell_type": "code",
   "execution_count": 30,
   "metadata": {
    "scrolled": false
   },
   "outputs": [
    {
     "data": {
      "text/html": [
       "<div>\n",
       "<style scoped>\n",
       "    .dataframe tbody tr th:only-of-type {\n",
       "        vertical-align: middle;\n",
       "    }\n",
       "\n",
       "    .dataframe tbody tr th {\n",
       "        vertical-align: top;\n",
       "    }\n",
       "\n",
       "    .dataframe thead th {\n",
       "        text-align: right;\n",
       "    }\n",
       "</style>\n",
       "<table border=\"1\" class=\"dataframe\">\n",
       "  <thead>\n",
       "    <tr style=\"text-align: right;\">\n",
       "      <th></th>\n",
       "      <th>Name</th>\n",
       "      <th>genre</th>\n",
       "    </tr>\n",
       "  </thead>\n",
       "  <tbody>\n",
       "    <tr>\n",
       "      <th>0</th>\n",
       "      <td>Stranded</td>\n",
       "      <td>metal</td>\n",
       "    </tr>\n",
       "    <tr>\n",
       "      <th>1</th>\n",
       "      <td>Tequila Shots</td>\n",
       "      <td>hip hop</td>\n",
       "    </tr>\n",
       "    <tr>\n",
       "      <th>2</th>\n",
       "      <td>¡Viva La Gloria!</td>\n",
       "      <td>metal</td>\n",
       "    </tr>\n",
       "    <tr>\n",
       "      <th>3</th>\n",
       "      <td>All I Wanted</td>\n",
       "      <td>rock</td>\n",
       "    </tr>\n",
       "    <tr>\n",
       "      <th>4</th>\n",
       "      <td>Famous</td>\n",
       "      <td>pop</td>\n",
       "    </tr>\n",
       "    <tr>\n",
       "      <th>5</th>\n",
       "      <td>Days Go By</td>\n",
       "      <td>rock</td>\n",
       "    </tr>\n",
       "    <tr>\n",
       "      <th>6</th>\n",
       "      <td>It Ain’t Me (with Selena Gomez)</td>\n",
       "      <td>pop</td>\n",
       "    </tr>\n",
       "    <tr>\n",
       "      <th>7</th>\n",
       "      <td>Cautious</td>\n",
       "      <td>rock</td>\n",
       "    </tr>\n",
       "    <tr>\n",
       "      <th>8</th>\n",
       "      <td>Gods &amp; Machines</td>\n",
       "      <td>metal</td>\n",
       "    </tr>\n",
       "    <tr>\n",
       "      <th>9</th>\n",
       "      <td>Whiskey In The Jar</td>\n",
       "      <td>metal</td>\n",
       "    </tr>\n",
       "    <tr>\n",
       "      <th>10</th>\n",
       "      <td>When You Know</td>\n",
       "      <td>rock</td>\n",
       "    </tr>\n",
       "    <tr>\n",
       "      <th>11</th>\n",
       "      <td>Loner</td>\n",
       "      <td>pop</td>\n",
       "    </tr>\n",
       "    <tr>\n",
       "      <th>12</th>\n",
       "      <td>Plush - 2017 Remaster</td>\n",
       "      <td>metal</td>\n",
       "    </tr>\n",
       "    <tr>\n",
       "      <th>13</th>\n",
       "      <td>No Sleep Till Brooklyn</td>\n",
       "      <td>hip hop</td>\n",
       "    </tr>\n",
       "    <tr>\n",
       "      <th>14</th>\n",
       "      <td>Sweater Weather</td>\n",
       "      <td>electronic</td>\n",
       "    </tr>\n",
       "    <tr>\n",
       "      <th>15</th>\n",
       "      <td>Heart-Shaped Box</td>\n",
       "      <td>rock</td>\n",
       "    </tr>\n",
       "    <tr>\n",
       "      <th>16</th>\n",
       "      <td>Errbody</td>\n",
       "      <td>hip hop</td>\n",
       "    </tr>\n",
       "    <tr>\n",
       "      <th>17</th>\n",
       "      <td>The Other Half Of Me</td>\n",
       "      <td>metal</td>\n",
       "    </tr>\n",
       "    <tr>\n",
       "      <th>18</th>\n",
       "      <td>Futsal Shuffle 2020 - Bonus Track</td>\n",
       "      <td>hip hop</td>\n",
       "    </tr>\n",
       "    <tr>\n",
       "      <th>19</th>\n",
       "      <td>Symphony No.25 in G minor, K.183: 1. Allegro c...</td>\n",
       "      <td>electronic</td>\n",
       "    </tr>\n",
       "  </tbody>\n",
       "</table>\n",
       "</div>"
      ],
      "text/plain": [
       "                                                 Name       genre\n",
       "0                                            Stranded       metal\n",
       "1                                       Tequila Shots     hip hop\n",
       "2                                    ¡Viva La Gloria!       metal\n",
       "3                                        All I Wanted        rock\n",
       "4                                              Famous         pop\n",
       "5                                          Days Go By        rock\n",
       "6                     It Ain’t Me (with Selena Gomez)         pop\n",
       "7                                            Cautious        rock\n",
       "8                                     Gods & Machines       metal\n",
       "9                                  Whiskey In The Jar       metal\n",
       "10                                      When You Know        rock\n",
       "11                                              Loner         pop\n",
       "12                              Plush - 2017 Remaster       metal\n",
       "13                             No Sleep Till Brooklyn     hip hop\n",
       "14                                    Sweater Weather  electronic\n",
       "15                                   Heart-Shaped Box        rock\n",
       "16                                            Errbody     hip hop\n",
       "17                               The Other Half Of Me       metal\n",
       "18                  Futsal Shuffle 2020 - Bonus Track     hip hop\n",
       "19  Symphony No.25 in G minor, K.183: 1. Allegro c...  electronic"
      ]
     },
     "execution_count": 30,
     "metadata": {},
     "output_type": "execute_result"
    }
   ],
   "source": [
    "finalpred=pd.DataFrame()\n",
    "finalpred['Name']=songnames\n",
    "finalpred['genre']=trial['genre']\n",
    "finalpred"
   ]
  },
  {
   "cell_type": "code",
   "execution_count": null,
   "metadata": {},
   "outputs": [],
   "source": []
  }
 ],
 "metadata": {
  "kernelspec": {
   "display_name": "Python 3",
   "language": "python",
   "name": "python3"
  },
  "language_info": {
   "codemirror_mode": {
    "name": "ipython",
    "version": 3
   },
   "file_extension": ".py",
   "mimetype": "text/x-python",
   "name": "python",
   "nbconvert_exporter": "python",
   "pygments_lexer": "ipython3",
   "version": "3.8.0"
  }
 },
 "nbformat": 4,
 "nbformat_minor": 4
}
