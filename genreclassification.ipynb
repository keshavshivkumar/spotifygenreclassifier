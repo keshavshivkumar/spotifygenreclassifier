{
 "cells": [
  {
   "cell_type": "code",
   "execution_count": 1,
   "metadata": {},
   "outputs": [],
   "source": [
    "import requests\n",
    "import json\n",
    "import numpy as np\n",
    "import pandas as pd\n",
    "import matplotlib.pyplot as plt\n",
    "import scikitplot as skplt\n",
    "from sklearn.preprocessing import StandardScaler\n",
    "from sklearn.model_selection import train_test_split, cross_val_score, GridSearchCV\n",
    "from sklearn.neighbors import KNeighborsClassifier\n",
    "from sklearn.metrics import precision_recall_fscore_support, accuracy_score, classification_report, confusion_matrix, roc_curve, auc\n",
    "from sklearn.linear_model import LogisticRegression\n",
    "from sklearn.ensemble import RandomForestClassifier\n",
    "from sklearn.svm import SVC\n",
    "from sklearn.neural_network import MLPClassifier\n",
    "from collections import OrderedDict"
   ]
  },
  {
   "cell_type": "code",
   "execution_count": 2,
   "metadata": {},
   "outputs": [],
   "source": [
    "#getting the client id and secret\n",
    "clientid=''#Enter your client ID here\n",
    "clientsecret=''#Enter your client secret here\n",
    "authurl='https://accounts.spotify.com/api/token'\n",
    "response=requests.post(authurl,{\n",
    "    'grant_type':'client_credentials',\n",
    "    'client_id':clientid,\n",
    "    'client_secret':clientsecret,\n",
    "})\n",
    "authjson=response.json()\n",
    "accesstoken=authjson['access_token']\n",
    "headers={'Authorization':'Bearer {}'.format(accesstoken)}"
   ]
  },
  {
   "cell_type": "code",
   "execution_count": 3,
   "metadata": {},
   "outputs": [],
   "source": [
    "#using the playlists' songs, we create dataframes with details of the songs, and an extra column, genre\n",
    "def playlistdataframe(playlistid,genre):    \n",
    "    base='https://api.spotify.com/v1/playlists/'\n",
    "    r=requests.get(base+playlistid+'/tracks',headers=headers)\n",
    "    playlist=r.json()\n",
    "    ids=[]\n",
    "    for song in playlist['items']:\n",
    "        ids.append(song['track']['id'])\n",
    "    playlistids=\",\".join(ids)\n",
    "    r=requests.get(\"https://api.spotify.com/v1/audio-features/?ids={}\".format(playlistids), headers=headers)\n",
    "    details=r.json()\n",
    "    df=pd.DataFrame(details['audio_features'])\n",
    "    df['genre']=genre\n",
    "    return df"
   ]
  },
  {
   "cell_type": "code",
   "execution_count": 39,
   "metadata": {},
   "outputs": [],
   "source": [
    "rock1=playlistdataframe('37i9dQZF1DXcF6B6QPhFDv','rock')\n",
    "rock2=playlistdataframe('37i9dQZF1DWWJOmJ7nRx0C','rock')\n",
    "#rock3=playlistdataframe('37i9dQZF1DX82GYcclJ3Ug','rock')\n",
    "rock4=playlistdataframe('37i9dQZF1DWXRqgorJj26U','rock')\n",
    "hiphop1=playlistdataframe('37i9dQZF1DX0XUsuxWHRQd','hip hop')\n",
    "hiphop2=playlistdataframe('37i9dQZF1DWVA1Gq4XHa6U','hip hop')\n",
    "hiphop3=playlistdataframe('37i9dQZF1DX186v583rmzp','hip hop')\n",
    "# hiphop4=playlistdataframe('37i9dQZF1DWT5MrZnPU1zD','hip hop')\n",
    "#edm1=playlistdataframe('37i9dQZF1DX4dyzvuaRJ0n','electronic')\n",
    "edm2=playlistdataframe('37i9dQZF1DXaXB8fQg7xif','electronic')\n",
    "edm3=playlistdataframe('37i9dQZF1DWXLeA8Omikj7','electronic')\n",
    "edm4=playlistdataframe('37i9dQZF1DX6VdMW310YC7','electronic')\n",
    "class1=playlistdataframe('37i9dQZF1DWWEJlAGA9gs0','classical')\n",
    "class2=playlistdataframe('37i9dQZF1DWV0gynK7G6pD','classical')\n",
    "class3=playlistdataframe('37i9dQZF1DWVFeEut75IAL','classical')\n",
    "pop1=playlistdataframe('37i9dQZF1DWUa8ZRTfalHk','pop')\n",
    "pop2=playlistdataframe('37i9dQZF1DX5gQonLbZD9s','pop')\n",
    "pop3=playlistdataframe('37i9dQZF1DX0s5kDXi1oC5','pop')\n",
    "metal1=playlistdataframe('37i9dQZF1DWWOaP4H0w5b0','metal')\n",
    "metal2=playlistdataframe('37i9dQZF1DXakaomPRkkDa','metal')\n",
    "metal3=playlistdataframe('37i9dQZF1DX9qNs32fujYe','metal')"
   ]
  },
  {
   "cell_type": "code",
   "execution_count": 40,
   "metadata": {},
   "outputs": [
    {
     "data": {
      "text/html": [
       "<div>\n",
       "<style scoped>\n",
       "    .dataframe tbody tr th:only-of-type {\n",
       "        vertical-align: middle;\n",
       "    }\n",
       "\n",
       "    .dataframe tbody tr th {\n",
       "        vertical-align: top;\n",
       "    }\n",
       "\n",
       "    .dataframe thead th {\n",
       "        text-align: right;\n",
       "    }\n",
       "</style>\n",
       "<table border=\"1\" class=\"dataframe\">\n",
       "  <thead>\n",
       "    <tr style=\"text-align: right;\">\n",
       "      <th></th>\n",
       "      <th>danceability</th>\n",
       "      <th>energy</th>\n",
       "      <th>key</th>\n",
       "      <th>loudness</th>\n",
       "      <th>mode</th>\n",
       "      <th>speechiness</th>\n",
       "      <th>acousticness</th>\n",
       "      <th>instrumentalness</th>\n",
       "      <th>liveness</th>\n",
       "      <th>valence</th>\n",
       "      <th>tempo</th>\n",
       "      <th>type</th>\n",
       "      <th>id</th>\n",
       "      <th>uri</th>\n",
       "      <th>track_href</th>\n",
       "      <th>analysis_url</th>\n",
       "      <th>duration_ms</th>\n",
       "      <th>time_signature</th>\n",
       "      <th>genre</th>\n",
       "    </tr>\n",
       "  </thead>\n",
       "  <tbody>\n",
       "    <tr>\n",
       "      <th>0</th>\n",
       "      <td>0.530</td>\n",
       "      <td>0.759</td>\n",
       "      <td>7</td>\n",
       "      <td>-7.067</td>\n",
       "      <td>1</td>\n",
       "      <td>0.0351</td>\n",
       "      <td>0.009840</td>\n",
       "      <td>0.000000</td>\n",
       "      <td>0.319</td>\n",
       "      <td>0.502</td>\n",
       "      <td>131.999</td>\n",
       "      <td>audio_features</td>\n",
       "      <td>3NUmUIyzNLBp8bCFMH8Mif</td>\n",
       "      <td>spotify:track:3NUmUIyzNLBp8bCFMH8Mif</td>\n",
       "      <td>https://api.spotify.com/v1/tracks/3NUmUIyzNLBp...</td>\n",
       "      <td>https://api.spotify.com/v1/audio-analysis/3NUm...</td>\n",
       "      <td>253840</td>\n",
       "      <td>4</td>\n",
       "      <td>rock</td>\n",
       "    </tr>\n",
       "    <tr>\n",
       "      <th>1</th>\n",
       "      <td>0.394</td>\n",
       "      <td>0.833</td>\n",
       "      <td>0</td>\n",
       "      <td>-5.180</td>\n",
       "      <td>1</td>\n",
       "      <td>0.0420</td>\n",
       "      <td>0.008630</td>\n",
       "      <td>0.811000</td>\n",
       "      <td>0.109</td>\n",
       "      <td>0.362</td>\n",
       "      <td>145.082</td>\n",
       "      <td>audio_features</td>\n",
       "      <td>55meRTYBw8S5q7KF3DkjL7</td>\n",
       "      <td>spotify:track:55meRTYBw8S5q7KF3DkjL7</td>\n",
       "      <td>https://api.spotify.com/v1/tracks/55meRTYBw8S5...</td>\n",
       "      <td>https://api.spotify.com/v1/audio-analysis/55me...</td>\n",
       "      <td>250961</td>\n",
       "      <td>4</td>\n",
       "      <td>rock</td>\n",
       "    </tr>\n",
       "    <tr>\n",
       "      <th>2</th>\n",
       "      <td>0.471</td>\n",
       "      <td>0.900</td>\n",
       "      <td>8</td>\n",
       "      <td>-2.283</td>\n",
       "      <td>0</td>\n",
       "      <td>0.0832</td>\n",
       "      <td>0.014800</td>\n",
       "      <td>0.000003</td>\n",
       "      <td>0.082</td>\n",
       "      <td>0.362</td>\n",
       "      <td>91.318</td>\n",
       "      <td>audio_features</td>\n",
       "      <td>03Szk0skbXqllHkNCVZI9p</td>\n",
       "      <td>spotify:track:03Szk0skbXqllHkNCVZI9p</td>\n",
       "      <td>https://api.spotify.com/v1/tracks/03Szk0skbXql...</td>\n",
       "      <td>https://api.spotify.com/v1/audio-analysis/03Sz...</td>\n",
       "      <td>270215</td>\n",
       "      <td>4</td>\n",
       "      <td>rock</td>\n",
       "    </tr>\n",
       "    <tr>\n",
       "      <th>3</th>\n",
       "      <td>0.475</td>\n",
       "      <td>0.844</td>\n",
       "      <td>1</td>\n",
       "      <td>-4.448</td>\n",
       "      <td>0</td>\n",
       "      <td>0.0622</td>\n",
       "      <td>0.000120</td>\n",
       "      <td>0.111000</td>\n",
       "      <td>0.221</td>\n",
       "      <td>0.554</td>\n",
       "      <td>156.136</td>\n",
       "      <td>audio_features</td>\n",
       "      <td>4CEqDmkqD7illXHuym76V6</td>\n",
       "      <td>spotify:track:4CEqDmkqD7illXHuym76V6</td>\n",
       "      <td>https://api.spotify.com/v1/tracks/4CEqDmkqD7il...</td>\n",
       "      <td>https://api.spotify.com/v1/audio-analysis/4CEq...</td>\n",
       "      <td>246933</td>\n",
       "      <td>4</td>\n",
       "      <td>rock</td>\n",
       "    </tr>\n",
       "    <tr>\n",
       "      <th>4</th>\n",
       "      <td>0.185</td>\n",
       "      <td>0.900</td>\n",
       "      <td>4</td>\n",
       "      <td>-5.414</td>\n",
       "      <td>0</td>\n",
       "      <td>0.0918</td>\n",
       "      <td>0.000125</td>\n",
       "      <td>0.020500</td>\n",
       "      <td>0.119</td>\n",
       "      <td>0.240</td>\n",
       "      <td>159.813</td>\n",
       "      <td>audio_features</td>\n",
       "      <td>3WEerYUbUTVFCWE3gcADiz</td>\n",
       "      <td>spotify:track:3WEerYUbUTVFCWE3gcADiz</td>\n",
       "      <td>https://api.spotify.com/v1/tracks/3WEerYUbUTVF...</td>\n",
       "      <td>https://api.spotify.com/v1/audio-analysis/3WEe...</td>\n",
       "      <td>241857</td>\n",
       "      <td>4</td>\n",
       "      <td>rock</td>\n",
       "    </tr>\n",
       "  </tbody>\n",
       "</table>\n",
       "</div>"
      ],
      "text/plain": [
       "   danceability  energy  key  loudness  mode  speechiness  acousticness  \\\n",
       "0         0.530   0.759    7    -7.067     1       0.0351      0.009840   \n",
       "1         0.394   0.833    0    -5.180     1       0.0420      0.008630   \n",
       "2         0.471   0.900    8    -2.283     0       0.0832      0.014800   \n",
       "3         0.475   0.844    1    -4.448     0       0.0622      0.000120   \n",
       "4         0.185   0.900    4    -5.414     0       0.0918      0.000125   \n",
       "\n",
       "   instrumentalness  liveness  valence    tempo            type  \\\n",
       "0          0.000000     0.319    0.502  131.999  audio_features   \n",
       "1          0.811000     0.109    0.362  145.082  audio_features   \n",
       "2          0.000003     0.082    0.362   91.318  audio_features   \n",
       "3          0.111000     0.221    0.554  156.136  audio_features   \n",
       "4          0.020500     0.119    0.240  159.813  audio_features   \n",
       "\n",
       "                       id                                   uri  \\\n",
       "0  3NUmUIyzNLBp8bCFMH8Mif  spotify:track:3NUmUIyzNLBp8bCFMH8Mif   \n",
       "1  55meRTYBw8S5q7KF3DkjL7  spotify:track:55meRTYBw8S5q7KF3DkjL7   \n",
       "2  03Szk0skbXqllHkNCVZI9p  spotify:track:03Szk0skbXqllHkNCVZI9p   \n",
       "3  4CEqDmkqD7illXHuym76V6  spotify:track:4CEqDmkqD7illXHuym76V6   \n",
       "4  3WEerYUbUTVFCWE3gcADiz  spotify:track:3WEerYUbUTVFCWE3gcADiz   \n",
       "\n",
       "                                          track_href  \\\n",
       "0  https://api.spotify.com/v1/tracks/3NUmUIyzNLBp...   \n",
       "1  https://api.spotify.com/v1/tracks/55meRTYBw8S5...   \n",
       "2  https://api.spotify.com/v1/tracks/03Szk0skbXql...   \n",
       "3  https://api.spotify.com/v1/tracks/4CEqDmkqD7il...   \n",
       "4  https://api.spotify.com/v1/tracks/3WEerYUbUTVF...   \n",
       "\n",
       "                                        analysis_url  duration_ms  \\\n",
       "0  https://api.spotify.com/v1/audio-analysis/3NUm...       253840   \n",
       "1  https://api.spotify.com/v1/audio-analysis/55me...       250961   \n",
       "2  https://api.spotify.com/v1/audio-analysis/03Sz...       270215   \n",
       "3  https://api.spotify.com/v1/audio-analysis/4CEq...       246933   \n",
       "4  https://api.spotify.com/v1/audio-analysis/3WEe...       241857   \n",
       "\n",
       "   time_signature genre  \n",
       "0               4  rock  \n",
       "1               4  rock  \n",
       "2               4  rock  \n",
       "3               4  rock  \n",
       "4               4  rock  "
      ]
     },
     "execution_count": 40,
     "metadata": {},
     "output_type": "execute_result"
    }
   ],
   "source": [
    "#concatenation to make a mega dataframe\n",
    "musicdf=pd.concat([rock1,rock2,rock4,hiphop1,hiphop2,hiphop3,edm2,edm3,edm4,class1,class2,class3,pop1,pop2,pop3,metal1,metal2,metal3])\n",
    "musicdf=musicdf.drop_duplicates(subset=['id'],keep='first')\n",
    "musicdf.head()"
   ]
  },
  {
   "cell_type": "code",
   "execution_count": 41,
   "metadata": {},
   "outputs": [
    {
     "name": "stdout",
     "output_type": "stream",
     "text": [
      "Stored 'X' (DataFrame)\n",
      "Stored 'y' (Series)\n"
     ]
    }
   ],
   "source": [
    "#separating the independent variables from the dependent\n",
    "X=musicdf[['acousticness', 'danceability', 'energy', 'instrumentalness', 'key', 'liveness', 'loudness', 'speechiness', 'tempo', 'time_signature', 'valence']]\n",
    "y=musicdf.genre\n",
    "%store X\n",
    "%store y"
   ]
  },
  {
   "cell_type": "code",
   "execution_count": 42,
   "metadata": {},
   "outputs": [
    {
     "data": {
      "text/html": [
       "<div>\n",
       "<style scoped>\n",
       "    .dataframe tbody tr th:only-of-type {\n",
       "        vertical-align: middle;\n",
       "    }\n",
       "\n",
       "    .dataframe tbody tr th {\n",
       "        vertical-align: top;\n",
       "    }\n",
       "\n",
       "    .dataframe thead th {\n",
       "        text-align: right;\n",
       "    }\n",
       "</style>\n",
       "<table border=\"1\" class=\"dataframe\">\n",
       "  <thead>\n",
       "    <tr style=\"text-align: right;\">\n",
       "      <th></th>\n",
       "      <th>acousticness</th>\n",
       "      <th>danceability</th>\n",
       "      <th>energy</th>\n",
       "      <th>instrumentalness</th>\n",
       "      <th>key</th>\n",
       "      <th>liveness</th>\n",
       "      <th>loudness</th>\n",
       "      <th>speechiness</th>\n",
       "      <th>tempo</th>\n",
       "      <th>time_signature</th>\n",
       "      <th>valence</th>\n",
       "    </tr>\n",
       "  </thead>\n",
       "  <tbody>\n",
       "    <tr>\n",
       "      <th>0</th>\n",
       "      <td>0.009840</td>\n",
       "      <td>0.530</td>\n",
       "      <td>0.759</td>\n",
       "      <td>0.000000</td>\n",
       "      <td>7</td>\n",
       "      <td>0.319</td>\n",
       "      <td>-7.067</td>\n",
       "      <td>0.0351</td>\n",
       "      <td>131.999</td>\n",
       "      <td>4</td>\n",
       "      <td>0.502</td>\n",
       "    </tr>\n",
       "    <tr>\n",
       "      <th>1</th>\n",
       "      <td>0.008630</td>\n",
       "      <td>0.394</td>\n",
       "      <td>0.833</td>\n",
       "      <td>0.811000</td>\n",
       "      <td>0</td>\n",
       "      <td>0.109</td>\n",
       "      <td>-5.180</td>\n",
       "      <td>0.0420</td>\n",
       "      <td>145.082</td>\n",
       "      <td>4</td>\n",
       "      <td>0.362</td>\n",
       "    </tr>\n",
       "    <tr>\n",
       "      <th>2</th>\n",
       "      <td>0.014800</td>\n",
       "      <td>0.471</td>\n",
       "      <td>0.900</td>\n",
       "      <td>0.000003</td>\n",
       "      <td>8</td>\n",
       "      <td>0.082</td>\n",
       "      <td>-2.283</td>\n",
       "      <td>0.0832</td>\n",
       "      <td>91.318</td>\n",
       "      <td>4</td>\n",
       "      <td>0.362</td>\n",
       "    </tr>\n",
       "    <tr>\n",
       "      <th>3</th>\n",
       "      <td>0.000120</td>\n",
       "      <td>0.475</td>\n",
       "      <td>0.844</td>\n",
       "      <td>0.111000</td>\n",
       "      <td>1</td>\n",
       "      <td>0.221</td>\n",
       "      <td>-4.448</td>\n",
       "      <td>0.0622</td>\n",
       "      <td>156.136</td>\n",
       "      <td>4</td>\n",
       "      <td>0.554</td>\n",
       "    </tr>\n",
       "    <tr>\n",
       "      <th>4</th>\n",
       "      <td>0.000125</td>\n",
       "      <td>0.185</td>\n",
       "      <td>0.900</td>\n",
       "      <td>0.020500</td>\n",
       "      <td>4</td>\n",
       "      <td>0.119</td>\n",
       "      <td>-5.414</td>\n",
       "      <td>0.0918</td>\n",
       "      <td>159.813</td>\n",
       "      <td>4</td>\n",
       "      <td>0.240</td>\n",
       "    </tr>\n",
       "  </tbody>\n",
       "</table>\n",
       "</div>"
      ],
      "text/plain": [
       "   acousticness  danceability  energy  instrumentalness  key  liveness  \\\n",
       "0      0.009840         0.530   0.759          0.000000    7     0.319   \n",
       "1      0.008630         0.394   0.833          0.811000    0     0.109   \n",
       "2      0.014800         0.471   0.900          0.000003    8     0.082   \n",
       "3      0.000120         0.475   0.844          0.111000    1     0.221   \n",
       "4      0.000125         0.185   0.900          0.020500    4     0.119   \n",
       "\n",
       "   loudness  speechiness    tempo  time_signature  valence  \n",
       "0    -7.067       0.0351  131.999               4    0.502  \n",
       "1    -5.180       0.0420  145.082               4    0.362  \n",
       "2    -2.283       0.0832   91.318               4    0.362  \n",
       "3    -4.448       0.0622  156.136               4    0.554  \n",
       "4    -5.414       0.0918  159.813               4    0.240  "
      ]
     },
     "execution_count": 42,
     "metadata": {},
     "output_type": "execute_result"
    }
   ],
   "source": [
    "#standardizing the values to make better predictions\n",
    "standardized_df=StandardScaler().fit_transform(X)\n",
    "scaledmusicdf=pd.DataFrame(X,columns=X.columns)\n",
    "scaledmusicdf.head()"
   ]
  },
  {
   "cell_type": "code",
   "execution_count": 43,
   "metadata": {},
   "outputs": [],
   "source": [
    "#split up of the training and testing data\n",
    "X_train, X_test, y_train, y_test=train_test_split(scaledmusicdf, y, test_size=0.2, random_state=4)"
   ]
  },
  {
   "cell_type": "code",
   "execution_count": 10,
   "metadata": {},
   "outputs": [
    {
     "name": "stdout",
     "output_type": "stream",
     "text": [
      "Best accuracy: 0.47750865051903113\n",
      "Best K value: 11\n",
      "0.47750865051903113\n",
      "(0.47750865051903113, 0.47750865051903113, 0.47750865051903113, None)\n",
      "[[42  6  0  0  0  0]\n",
      " [ 7 36  2  3  6  3]\n",
      " [ 0  2 18  7  6  3]\n",
      " [ 0  8  8 20  8  4]\n",
      " [ 0  8 11 11 12  3]\n",
      " [ 2  8 10 19  6 10]]\n",
      "              precision    recall  f1-score   support\n",
      "\n",
      "   classical       0.82      0.88      0.85        48\n",
      "  electronic       0.53      0.63      0.58        57\n",
      "     hip hop       0.37      0.50      0.42        36\n",
      "       metal       0.33      0.42      0.37        48\n",
      "         pop       0.32      0.27      0.29        45\n",
      "        rock       0.43      0.18      0.26        55\n",
      "\n",
      "    accuracy                           0.48       289\n",
      "   macro avg       0.47      0.48      0.46       289\n",
      "weighted avg       0.47      0.48      0.46       289\n",
      "\n"
     ]
    }
   ],
   "source": [
    "#KNN: finding the best k value\n",
    "acc=0\n",
    "best_k=0\n",
    "ypred=0\n",
    "for i in range(1, 50):\n",
    "    knn=KNeighborsClassifier(n_neighbors=i).fit(X_train, y_train)\n",
    "    yhat=knn.predict(X_test)\n",
    "    knnacc=accuracy_score(y_test, yhat)\n",
    "    if knnacc>acc:\n",
    "        acc=knnacc\n",
    "        best_k=i\n",
    "        ypred=yhat\n",
    "print(\"Best accuracy: {}\\nBest K value: {}\".format(acc, best_k))\n",
    "knnpred=KNeighborsClassifier(n_neighbors=best_k)\n",
    "knnpred.fit(X_train, y_train)\n",
    "print(knnpred.score(X_test, y_test))\n",
    "print(precision_recall_fscore_support(y_test, ypred, average='micro'))\n",
    "print(confusion_matrix(y_test, ypred))\n",
    "print(classification_report(y_test,ypred))"
   ]
  },
  {
   "cell_type": "code",
   "execution_count": 44,
   "metadata": {},
   "outputs": [
    {
     "name": "stdout",
     "output_type": "stream",
     "text": [
      "0.7370242214532872\n",
      "[[46  1  0  0  0  0]\n",
      " [ 2 46  0  0  8  1]\n",
      " [ 0  0 31  1  4  0]\n",
      " [ 0  0  0 39  0  9]\n",
      " [ 0  2  8  0 33  3]\n",
      " [ 0  5  3 18 11 18]]\n",
      "              precision    recall  f1-score   support\n",
      "\n",
      "   classical       0.96      0.98      0.97        47\n",
      "  electronic       0.85      0.81      0.83        57\n",
      "     hip hop       0.74      0.86      0.79        36\n",
      "       metal       0.67      0.81      0.74        48\n",
      "         pop       0.59      0.72      0.65        46\n",
      "        rock       0.58      0.33      0.42        55\n",
      "\n",
      "    accuracy                           0.74       289\n",
      "   macro avg       0.73      0.75      0.73       289\n",
      "weighted avg       0.73      0.74      0.72       289\n",
      "\n"
     ]
    }
   ],
   "source": [
    "#random forest classification\n",
    "forestpred=RandomForestClassifier(n_estimators=100, max_depth=6)\n",
    "forestpred.fit(X_train, y_train)\n",
    "print(forestpred.score(X_test, y_test))\n",
    "randomforest=forestpred.predict(X_test)\n",
    "print(confusion_matrix(y_test,randomforest))\n",
    "print(classification_report(y_test, randomforest))"
   ]
  },
  {
   "cell_type": "code",
   "execution_count": 12,
   "metadata": {},
   "outputs": [
    {
     "name": "stdout",
     "output_type": "stream",
     "text": [
      "0.698961937716263\n",
      "[[47  0  0  0  1  0]\n",
      " [ 5 36  4  4  8  0]\n",
      " [ 0  0 28  0  8  0]\n",
      " [ 0  1  0 41  0  6]\n",
      " [ 0  0  5  5 30  5]\n",
      " [ 0  5  2 19  9 20]]\n",
      "              precision    recall  f1-score   support\n",
      "\n",
      "   classical       0.90      0.98      0.94        48\n",
      "  electronic       0.86      0.63      0.73        57\n",
      "     hip hop       0.72      0.78      0.75        36\n",
      "       metal       0.59      0.85      0.70        48\n",
      "         pop       0.54      0.67      0.59        45\n",
      "        rock       0.65      0.36      0.47        55\n",
      "\n",
      "    accuracy                           0.70       289\n",
      "   macro avg       0.71      0.71      0.70       289\n",
      "weighted avg       0.71      0.70      0.69       289\n",
      "\n"
     ]
    }
   ],
   "source": [
    "#logistic regression classification\n",
    "logpred=LogisticRegression(solver='lbfgs', max_iter=10000)\n",
    "logpred.fit(X_train, y_train)\n",
    "logpredict=logpred.predict(X_test)\n",
    "print(logpred.score(X_test, y_test))\n",
    "print(confusion_matrix(y_test,logpredict))\n",
    "print(classification_report(y_test, logpredict))"
   ]
  },
  {
   "cell_type": "code",
   "execution_count": 13,
   "metadata": {},
   "outputs": [
    {
     "data": {
      "text/plain": [
       "0.7093425605536332"
      ]
     },
     "execution_count": 13,
     "metadata": {},
     "output_type": "execute_result"
    }
   ],
   "source": [
    "#SVM\n",
    "svmpred=SVC(kernel='linear')\n",
    "svmpred.fit(X_train, y_train)\n",
    "svmpred.score(X_test, y_test)"
   ]
  },
  {
   "cell_type": "code",
   "execution_count": 14,
   "metadata": {},
   "outputs": [
    {
     "data": {
      "text/plain": [
       "0.671280276816609"
      ]
     },
     "execution_count": 14,
     "metadata": {},
     "output_type": "execute_result"
    }
   ],
   "source": [
    "#neural networks\n",
    "nnpred=MLPClassifier(hidden_layer_sizes=600)\n",
    "nnpred.fit(X_train, y_train)\n",
    "nnpred.score(X_test, y_test)"
   ]
  },
  {
   "cell_type": "code",
   "execution_count": 15,
   "metadata": {},
   "outputs": [
    {
     "data": {
      "text/html": [
       "<div>\n",
       "<style scoped>\n",
       "    .dataframe tbody tr th:only-of-type {\n",
       "        vertical-align: middle;\n",
       "    }\n",
       "\n",
       "    .dataframe tbody tr th {\n",
       "        vertical-align: top;\n",
       "    }\n",
       "\n",
       "    .dataframe thead th {\n",
       "        text-align: right;\n",
       "    }\n",
       "</style>\n",
       "<table border=\"1\" class=\"dataframe\">\n",
       "  <thead>\n",
       "    <tr style=\"text-align: right;\">\n",
       "      <th></th>\n",
       "      <th>1</th>\n",
       "      <th>2</th>\n",
       "      <th>3</th>\n",
       "      <th>4</th>\n",
       "      <th>5</th>\n",
       "      <th>6</th>\n",
       "      <th>7</th>\n",
       "      <th>8</th>\n",
       "      <th>9</th>\n",
       "      <th>10</th>\n",
       "      <th>Mean</th>\n",
       "    </tr>\n",
       "  </thead>\n",
       "  <tbody>\n",
       "    <tr>\n",
       "      <th>KNN</th>\n",
       "      <td>0.413793</td>\n",
       "      <td>0.474138</td>\n",
       "      <td>0.508621</td>\n",
       "      <td>0.491379</td>\n",
       "      <td>0.486957</td>\n",
       "      <td>0.478261</td>\n",
       "      <td>0.539130</td>\n",
       "      <td>0.521739</td>\n",
       "      <td>0.513043</td>\n",
       "      <td>0.504348</td>\n",
       "      <td>0.493141</td>\n",
       "    </tr>\n",
       "    <tr>\n",
       "      <th>Random Forest</th>\n",
       "      <td>0.681034</td>\n",
       "      <td>0.758621</td>\n",
       "      <td>0.818966</td>\n",
       "      <td>0.750000</td>\n",
       "      <td>0.782609</td>\n",
       "      <td>0.730435</td>\n",
       "      <td>0.800000</td>\n",
       "      <td>0.765217</td>\n",
       "      <td>0.739130</td>\n",
       "      <td>0.730435</td>\n",
       "      <td>0.755645</td>\n",
       "    </tr>\n",
       "    <tr>\n",
       "      <th>Logistic</th>\n",
       "      <td>0.663793</td>\n",
       "      <td>0.698276</td>\n",
       "      <td>0.741379</td>\n",
       "      <td>0.715517</td>\n",
       "      <td>0.773913</td>\n",
       "      <td>0.695652</td>\n",
       "      <td>0.765217</td>\n",
       "      <td>0.730435</td>\n",
       "      <td>0.695652</td>\n",
       "      <td>0.721739</td>\n",
       "      <td>0.720157</td>\n",
       "    </tr>\n",
       "    <tr>\n",
       "      <th>SVM</th>\n",
       "      <td>0.655172</td>\n",
       "      <td>0.732759</td>\n",
       "      <td>0.732759</td>\n",
       "      <td>0.775862</td>\n",
       "      <td>0.773913</td>\n",
       "      <td>0.669565</td>\n",
       "      <td>0.730435</td>\n",
       "      <td>0.747826</td>\n",
       "      <td>0.721739</td>\n",
       "      <td>0.721739</td>\n",
       "      <td>0.726177</td>\n",
       "    </tr>\n",
       "    <tr>\n",
       "      <th>NN</th>\n",
       "      <td>0.594828</td>\n",
       "      <td>0.620690</td>\n",
       "      <td>0.577586</td>\n",
       "      <td>0.655172</td>\n",
       "      <td>0.713043</td>\n",
       "      <td>0.600000</td>\n",
       "      <td>0.669565</td>\n",
       "      <td>0.530435</td>\n",
       "      <td>0.678261</td>\n",
       "      <td>0.608696</td>\n",
       "      <td>0.624828</td>\n",
       "    </tr>\n",
       "  </tbody>\n",
       "</table>\n",
       "</div>"
      ],
      "text/plain": [
       "                      1         2         3         4         5         6  \\\n",
       "KNN            0.413793  0.474138  0.508621  0.491379  0.486957  0.478261   \n",
       "Random Forest  0.681034  0.758621  0.818966  0.750000  0.782609  0.730435   \n",
       "Logistic       0.663793  0.698276  0.741379  0.715517  0.773913  0.695652   \n",
       "SVM            0.655172  0.732759  0.732759  0.775862  0.773913  0.669565   \n",
       "NN             0.594828  0.620690  0.577586  0.655172  0.713043  0.600000   \n",
       "\n",
       "                      7         8         9        10      Mean  \n",
       "KNN            0.539130  0.521739  0.513043  0.504348  0.493141  \n",
       "Random Forest  0.800000  0.765217  0.739130  0.730435  0.755645  \n",
       "Logistic       0.765217  0.730435  0.695652  0.721739  0.720157  \n",
       "SVM            0.730435  0.747826  0.721739  0.721739  0.726177  \n",
       "NN             0.669565  0.530435  0.678261  0.608696  0.624828  "
      ]
     },
     "execution_count": 15,
     "metadata": {},
     "output_type": "execute_result"
    }
   ],
   "source": [
    "#summary of the used classifiers with 10 instances\n",
    "classifiers=[knnpred, forestpred, logpred, svmpred, nnpred]\n",
    "modelresult=[]\n",
    "for i in classifiers:\n",
    "    modelresult.append(cross_val_score(i, X_train, y_train, scoring='accuracy', cv=10))\n",
    "modeldf=pd.DataFrame(modelresult, columns=[x for x in range(1,11)], index=[\"KNN\", \"Random Forest\", \"Logistic\", \"SVM\", \"NN\"])\n",
    "modeldf[\"Mean\"] = modeldf.mean(axis=1)\n",
    "modeldf"
   ]
  },
  {
   "cell_type": "code",
   "execution_count": 16,
   "metadata": {},
   "outputs": [
    {
     "name": "stdout",
     "output_type": "stream",
     "text": [
      "{'algorithm': 'auto', 'leaf_size': 1, 'n_jobs': -1, 'weights': 'uniform'}\n",
      "Training best: 0.5831889081455806\n",
      "Testing best: 0.47750865051903113\n"
     ]
    }
   ],
   "source": [
    "#hyperparameter tuning for knn\n",
    "knn=KNeighborsClassifier(n_neighbors=best_k, n_jobs=-1)\n",
    "params={'leaf_size':[1,2,3,4,5], 'weights':['uniform','distance'], 'algorithm':['auto','ball_tree','brute'],'n_jobs':[-1]}\n",
    "knnmodel=GridSearchCV(knn, param_grid=params,n_jobs=1)\n",
    "knnmodel.fit(X_train, y_train)\n",
    "knnbest=knnmodel.best_params_\n",
    "print(knnbest)\n",
    "print(f\"Training best: {knnmodel.score(X_train, y_train)}\\nTesting best: {knnmodel.score(X_test, y_test)}\")"
   ]
  },
  {
   "cell_type": "code",
   "execution_count": 45,
   "metadata": {},
   "outputs": [
    {
     "name": "stdout",
     "output_type": "stream",
     "text": [
      "{'criterion': 'entropy', 'min_samples_leaf': 1, 'min_samples_split': 6, 'n_estimators': 25, 'n_jobs': -1, 'random_state': 123}\n",
      "Training best: 0.9774696707105719\n",
      "Testing best: 0.7335640138408305\n"
     ]
    }
   ],
   "source": [
    "#hyperparameter tuning for random forest\n",
    "forest=RandomForestClassifier()\n",
    "params={'criterion':['gini', 'entropy'],'n_estimators':[5,10,15,20,25], 'min_samples_leaf':[1,2,3],\n",
    "        'min_samples_split':[3,4,5,6,7],'random_state':[123],'n_jobs':[-1]}\n",
    "forestmodel=GridSearchCV(forest,param_grid=params,n_jobs=-1)\n",
    "forestmodel.fit(X_train,y_train)\n",
    "forestbest=forestmodel.best_params_\n",
    "print(forestbest)\n",
    "print(f\"Training best: {forestmodel.score(X_train, y_train)}\\nTesting best: {forestmodel.score(X_test, y_test)}\")"
   ]
  },
  {
   "cell_type": "code",
   "execution_count": 20,
   "metadata": {
    "scrolled": true
   },
   "outputs": [
    {
     "name": "stdout",
     "output_type": "stream",
     "text": [
      "{'C': 100.0, 'penalty': 'l2', 'solver': 'lbfgs'}\n",
      "Training best: 0.7608318890814558\n",
      "Testing best: 0.7197231833910035\n"
     ]
    }
   ],
   "source": [
    "#hyperparameter tuning for logistic regression\n",
    "logregression=LogisticRegression(max_iter=100000)\n",
    "params={'C':np.logspace(-3,3,7), 'solver' : ['newton-cg', 'lbfgs', 'liblinear', 'sag', 'saga'], 'penalty':['l2']}\n",
    "logmodel=GridSearchCV(logregression, param_grid=params, cv=3)\n",
    "logmodel.fit(X_train, y_train)\n",
    "logbest=logmodel.best_params_\n",
    "print(logbest)\n",
    "print(f\"Training best: {logmodel.score(X_train, y_train)}\\nTesting best: {logmodel.score(X_test, y_test)}\")"
   ]
  },
  {
   "cell_type": "code",
   "execution_count": 21,
   "metadata": {
    "scrolled": true
   },
   "outputs": [
    {
     "name": "stdout",
     "output_type": "stream",
     "text": [
      "Fitting 3 folds for each of 40 candidates, totalling 120 fits\n"
     ]
    },
    {
     "name": "stderr",
     "output_type": "stream",
     "text": [
      "[Parallel(n_jobs=-1)]: Using backend LokyBackend with 4 concurrent workers.\n",
      "[Parallel(n_jobs=-1)]: Done   5 tasks      | elapsed:   11.3s\n",
      "[Parallel(n_jobs=-1)]: Done  10 tasks      | elapsed:   11.4s\n",
      "[Parallel(n_jobs=-1)]: Done  17 tasks      | elapsed:   11.5s\n",
      "[Parallel(n_jobs=-1)]: Done  24 tasks      | elapsed:   11.7s\n",
      "[Parallel(n_jobs=-1)]: Done  33 tasks      | elapsed:   11.9s\n",
      "[Parallel(n_jobs=-1)]: Batch computation too fast (0.1936s.) Setting batch_size=2.\n",
      "[Parallel(n_jobs=-1)]: Done  42 tasks      | elapsed:   12.1s\n",
      "[Parallel(n_jobs=-1)]: Done  62 tasks      | elapsed:   13.1s\n",
      "[Parallel(n_jobs=-1)]: Batch computation too slow (2.2212s.) Setting batch_size=1.\n",
      "[Parallel(n_jobs=-1)]: Done  84 tasks      | elapsed:   17.1s\n",
      "[Parallel(n_jobs=-1)]: Done 103 tasks      | elapsed:   30.1s\n",
      "[Parallel(n_jobs=-1)]: Done 120 out of 120 | elapsed:   50.4s finished\n"
     ]
    },
    {
     "name": "stdout",
     "output_type": "stream",
     "text": [
      "{'C': 10, 'gamma': 0.001, 'kernel': 'linear'}\n",
      "Training best: 0.7755632582322357\n",
      "Testing best: 0.71280276816609\n"
     ]
    }
   ],
   "source": [
    "#hyperparameter tuning for SVM\n",
    "svm=SVC()\n",
    "params={'C':[0.001, 0.01, 0.1, 1, 10], 'gamma':[0.001, 0.01, 0.1, 1], 'kernel': ['linear', 'rbf']} #poly and sigmoid take too long\n",
    "svmmodel=GridSearchCV(svm, param_grid=params, refit=True, scoring='accuracy', verbose=10, cv=3, n_jobs=-1)\n",
    "svmmodel.fit(X_train, y_train)\n",
    "svmbest=svmmodel.best_params_\n",
    "print(svmbest)\n",
    "print(f\"Training best: {svmmodel.score(X_train, y_train)}\\nTesting best: {svmmodel.score(X_test, y_test)}\")"
   ]
  },
  {
   "cell_type": "code",
   "execution_count": 22,
   "metadata": {},
   "outputs": [
    {
     "name": "stdout",
     "output_type": "stream",
     "text": [
      "{'activation': 'tanh', 'alpha': 0.01, 'hidden_layer_sizes': 400}\n",
      "Training best: 0.7530329289428076\n",
      "Testing best: 0.7093425605536332\n"
     ]
    }
   ],
   "source": [
    "#hyperparameter tuning for neural networks\n",
    "nn=MLPClassifier()\n",
    "params = {'alpha': 10.0**(-np.arange(1, 10)), 'hidden_layer_sizes':[200, 400, 600, 800, 1000], \n",
    "          'activation': ['relu', 'tanh', 'logistic']}\n",
    "nnmodel=GridSearchCV(nn, param_grid=params, n_jobs=-1, scoring='accuracy', cv=3)\n",
    "nnmodel.fit(X_train, y_train)\n",
    "nnbest=nnmodel.best_params_\n",
    "print(nnbest)\n",
    "print(f\"Training best: {nnmodel.score(X_train, y_train)}\\nTesting best: {nnmodel.score(X_test, y_test)}\")"
   ]
  },
  {
   "cell_type": "code",
   "execution_count": 26,
   "metadata": {},
   "outputs": [
    {
     "name": "stderr",
     "output_type": "stream",
     "text": [
      "c:\\users\\lenovo\\appdata\\local\\programs\\python\\python38\\lib\\site-packages\\sklearn\\neural_network\\_multilayer_perceptron.py:582: ConvergenceWarning: Stochastic Optimizer: Maximum iterations (200) reached and the optimization hasn't converged yet.\n",
      "  warnings.warn(\n",
      "c:\\users\\lenovo\\appdata\\local\\programs\\python\\python38\\lib\\site-packages\\sklearn\\neural_network\\_multilayer_perceptron.py:582: ConvergenceWarning: Stochastic Optimizer: Maximum iterations (200) reached and the optimization hasn't converged yet.\n",
      "  warnings.warn(\n",
      "c:\\users\\lenovo\\appdata\\local\\programs\\python\\python38\\lib\\site-packages\\sklearn\\neural_network\\_multilayer_perceptron.py:582: ConvergenceWarning: Stochastic Optimizer: Maximum iterations (200) reached and the optimization hasn't converged yet.\n",
      "  warnings.warn(\n"
     ]
    },
    {
     "data": {
      "text/html": [
       "<div>\n",
       "<style scoped>\n",
       "    .dataframe tbody tr th:only-of-type {\n",
       "        vertical-align: middle;\n",
       "    }\n",
       "\n",
       "    .dataframe tbody tr th {\n",
       "        vertical-align: top;\n",
       "    }\n",
       "\n",
       "    .dataframe thead th {\n",
       "        text-align: right;\n",
       "    }\n",
       "</style>\n",
       "<table border=\"1\" class=\"dataframe\">\n",
       "  <thead>\n",
       "    <tr style=\"text-align: right;\">\n",
       "      <th></th>\n",
       "      <th>1</th>\n",
       "      <th>2</th>\n",
       "      <th>3</th>\n",
       "      <th>Mean</th>\n",
       "    </tr>\n",
       "  </thead>\n",
       "  <tbody>\n",
       "    <tr>\n",
       "      <th>KNN</th>\n",
       "      <td>0.501299</td>\n",
       "      <td>0.514286</td>\n",
       "      <td>0.460938</td>\n",
       "      <td>0.492174</td>\n",
       "    </tr>\n",
       "    <tr>\n",
       "      <th>Random Forest</th>\n",
       "      <td>0.735065</td>\n",
       "      <td>0.766234</td>\n",
       "      <td>0.739583</td>\n",
       "      <td>0.746961</td>\n",
       "    </tr>\n",
       "    <tr>\n",
       "      <th>Logistic</th>\n",
       "      <td>0.740260</td>\n",
       "      <td>0.732468</td>\n",
       "      <td>0.752604</td>\n",
       "      <td>0.741777</td>\n",
       "    </tr>\n",
       "    <tr>\n",
       "      <th>SVM</th>\n",
       "      <td>0.735065</td>\n",
       "      <td>0.761039</td>\n",
       "      <td>0.742188</td>\n",
       "      <td>0.746097</td>\n",
       "    </tr>\n",
       "    <tr>\n",
       "      <th>NN</th>\n",
       "      <td>0.703896</td>\n",
       "      <td>0.696104</td>\n",
       "      <td>0.731771</td>\n",
       "      <td>0.710590</td>\n",
       "    </tr>\n",
       "  </tbody>\n",
       "</table>\n",
       "</div>"
      ],
      "text/plain": [
       "                      1         2         3      Mean\n",
       "KNN            0.501299  0.514286  0.460938  0.492174\n",
       "Random Forest  0.735065  0.766234  0.739583  0.746961\n",
       "Logistic       0.740260  0.732468  0.752604  0.741777\n",
       "SVM            0.735065  0.761039  0.742188  0.746097\n",
       "NN             0.703896  0.696104  0.731771  0.710590"
      ]
     },
     "execution_count": 26,
     "metadata": {},
     "output_type": "execute_result"
    }
   ],
   "source": [
    "#summary of the best versions of each classifier for 10 instances\n",
    "knnfinal=KNeighborsClassifier(leaf_size=knnbest['leaf_size'], n_neighbors=21, algorithm=knnbest['algorithm'], \n",
    "                              weights=knnbest['weights'])\n",
    "forestfinal=RandomForestClassifier(criterion=forestbest['criterion'], min_samples_split=forestbest['min_samples_split'], \n",
    "                                   min_samples_leaf=forestbest['min_samples_leaf'], n_estimators=forestbest['n_estimators'],\n",
    "                                   random_state=0)\n",
    "logfinal=LogisticRegression(max_iter=100000, C=logbest['C'], solver=logbest['solver'])\n",
    "svmfinal=SVC(kernel=svmbest['kernel'], gamma=svmbest['gamma'], C=svmbest['C'])\n",
    "nnfinal=MLPClassifier(activation=nnbest['activation'], alpha=nnbest['alpha'], hidden_layer_sizes=nnbest['hidden_layer_sizes'])\n",
    "\n",
    "\n",
    "classifiers=[knnfinal, forestfinal, logfinal, svmfinal, nnfinal]\n",
    "results=[]\n",
    "for i in classifiers:\n",
    "    results.append(cross_val_score(i, X_train, y_train, scoring='accuracy', cv=3))\n",
    "finaldf=pd.DataFrame(results, columns=[x for x in range(1,4)], index=[\"KNN\", \"Random Forest\", \"Logistic\", \"SVM\", \"NN\"])\n",
    "finaldf[\"Mean\"] = finaldf.mean(axis=1)\n",
    "finaldf\n",
    "#Random Forest is the best, so let's use it for predictions\n",
    "#future scope would involve boosting"
   ]
  },
  {
   "cell_type": "code",
   "execution_count": 27,
   "metadata": {},
   "outputs": [],
   "source": [
    "#insert playlist id\n",
    "trial=playlistdataframe('3aFp6OcR1rukcTX0A8ppxe',0)"
   ]
  },
  {
   "cell_type": "code",
   "execution_count": 51,
   "metadata": {},
   "outputs": [
    {
     "name": "stdout",
     "output_type": "stream",
     "text": [
      "Index(['rock', 'hip hop', 'electronic', 'classical', 'pop', 'metal'], dtype='object') OrderedDict([(0, 'rock'), (1, 'hip hop'), (2, 'electronic'), (3, 'classical'), (4, 'pop'), (5, 'metal')])\n"
     ]
    }
   ],
   "source": [
    "#extracting categories from the mega dataframe\n",
    "categories=pd.factorize(musicdf['genre'])[1]\n",
    "converter=OrderedDict()\n",
    "for i in range(len(categories)):\n",
    "    converter[i]=categories[i]"
   ]
  },
  {
   "cell_type": "code",
   "execution_count": 46,
   "metadata": {},
   "outputs": [
    {
     "data": {
      "text/plain": [
       "RandomForestClassifier(min_samples_split=7, n_estimators=25, random_state=0)"
      ]
     },
     "execution_count": 46,
     "metadata": {},
     "output_type": "execute_result"
    }
   ],
   "source": [
    "#factorizing the genre column; making it numerical for categorization\n",
    "genres=pd.factorize(y)[0]\n",
    "forestfinal.fit(X, genres)"
   ]
  },
  {
   "cell_type": "code",
   "execution_count": 47,
   "metadata": {},
   "outputs": [],
   "source": [
    "#predicting genres for the given features of the playlist's songs\n",
    "finalX=trial[['acousticness', 'danceability', 'energy', 'instrumentalness', 'key', 'liveness', 'loudness', 'speechiness', 'tempo', 'time_signature', 'valence']]\n",
    "predictions=forestfinal.predict(finalX)"
   ]
  },
  {
   "cell_type": "code",
   "execution_count": 48,
   "metadata": {},
   "outputs": [
    {
     "name": "stdout",
     "output_type": "stream",
     "text": [
      "[[0.32068254 0.         0.039      0.         0.         0.64031746]\n",
      " [0.02       0.42247619 0.16142857 0.         0.38442857 0.01166667]\n",
      " [0.3611746  0.         0.04       0.         0.         0.5988254 ]\n",
      " [0.29139394 0.00571429 0.23733766 0.00571429 0.3480303  0.11180952]\n",
      " [0.25042857 0.09842857 0.04785714 0.         0.54757143 0.05571429]\n",
      " [0.14471429 0.         0.         0.         0.04571429 0.80957143]\n",
      " [0.01333333 0.04       0.04357143 0.         0.89642857 0.00666667]\n",
      " [0.44929437 0.02666667 0.00666667 0.         0.27466667 0.24270563]\n",
      " [0.12209524 0.03180952 0.03333333 0.         0.09047619 0.72228571]\n",
      " [0.25689177 0.         0.01071429 0.         0.         0.73239394]]\n"
     ]
    }
   ],
   "source": [
    "#probabilities of the predictions\n",
    "predprob=forestfinal.predict_proba(finalX)\n",
    "print(predprob)"
   ]
  },
  {
   "cell_type": "code",
   "execution_count": 49,
   "metadata": {},
   "outputs": [],
   "source": [
    "#converting the numerical predictions into categorical\n",
    "predicted_genres = [converter[prediction] for prediction in predictions]\n",
    "trial['genre']=predicted_genres"
   ]
  },
  {
   "cell_type": "code",
   "execution_count": 50,
   "metadata": {},
   "outputs": [
    {
     "name": "stdout",
     "output_type": "stream",
     "text": [
      "   danceability  energy  key  loudness  mode  speechiness  acousticness  \\\n",
      "0         0.513   0.880    7    -4.690     0       0.0309      0.000096   \n",
      "1         0.712   0.556    5    -7.214     0       0.0531      0.084000   \n",
      "2         0.232   0.937    4    -4.141     1       0.0998      0.003890   \n",
      "3         0.494   0.723    6    -4.559     0       0.0441      0.019200   \n",
      "4         0.465   0.735    6    -3.715     1       0.1170      0.071100   \n",
      "5         0.402   0.976    9    -1.823     1       0.0712      0.002900   \n",
      "6         0.640   0.533    0    -6.596     1       0.0706      0.119000   \n",
      "7         0.535   0.910   10    -4.260     1       0.0511      0.014000   \n",
      "8         0.526   0.979    3    -5.069     0       0.1460      0.002640   \n",
      "9         0.511   0.972   10    -3.751     1       0.0413      0.000005   \n",
      "\n",
      "   instrumentalness  liveness  valence    tempo            type  \\\n",
      "0          0.006140    0.0824    0.495   92.358  audio_features   \n",
      "1          0.000050    0.5270    0.220   90.494  audio_features   \n",
      "2          0.000000    0.5160    0.296  178.431  audio_features   \n",
      "3          0.032200    0.1340    0.152  144.036  audio_features   \n",
      "4          0.000000    0.0975    0.409  173.935  audio_features   \n",
      "5          0.000000    0.1160    0.318  150.061  audio_features   \n",
      "6          0.000000    0.0864    0.515   99.968  audio_features   \n",
      "7          0.000001    0.0698    0.528   89.985  audio_features   \n",
      "8          0.000003    0.2670    0.295  112.530  audio_features   \n",
      "9          0.001010    0.1900    0.532  132.970  audio_features   \n",
      "\n",
      "                       id                                   uri  \\\n",
      "0  60fUDmIWuKhngaeBIVhqIV  spotify:track:60fUDmIWuKhngaeBIVhqIV   \n",
      "1  30KctD1WsHKTIYczXjip5a  spotify:track:30KctD1WsHKTIYczXjip5a   \n",
      "2  575urseJcD6iGioNWuQy3H  spotify:track:575urseJcD6iGioNWuQy3H   \n",
      "3  1Bv3h7Vc4AaYA2BcSM3rVd  spotify:track:1Bv3h7Vc4AaYA2BcSM3rVd   \n",
      "4  19a3JfW8BQwqHWUMbcqSx8  spotify:track:19a3JfW8BQwqHWUMbcqSx8   \n",
      "5  0wDgnPr6qmNH3I9EGsIRu2  spotify:track:0wDgnPr6qmNH3I9EGsIRu2   \n",
      "6  12GEpg2XOPyqk03JZEZnJs  spotify:track:12GEpg2XOPyqk03JZEZnJs   \n",
      "7  1Z7DlH9AeV59TyD0LQTvNi  spotify:track:1Z7DlH9AeV59TyD0LQTvNi   \n",
      "8  5G8pEB1Ms7r5FPaTbm3biK  spotify:track:5G8pEB1Ms7r5FPaTbm3biK   \n",
      "9  3ZpWy5rBZv2aLQAldnmTsP  spotify:track:3ZpWy5rBZv2aLQAldnmTsP   \n",
      "\n",
      "                                          track_href  \\\n",
      "0  https://api.spotify.com/v1/tracks/60fUDmIWuKhn...   \n",
      "1  https://api.spotify.com/v1/tracks/30KctD1WsHKT...   \n",
      "2  https://api.spotify.com/v1/tracks/575urseJcD6i...   \n",
      "3  https://api.spotify.com/v1/tracks/1Bv3h7Vc4AaY...   \n",
      "4  https://api.spotify.com/v1/tracks/19a3JfW8BQwq...   \n",
      "5  https://api.spotify.com/v1/tracks/0wDgnPr6qmNH...   \n",
      "6  https://api.spotify.com/v1/tracks/12GEpg2XOPyq...   \n",
      "7  https://api.spotify.com/v1/tracks/1Z7DlH9AeV59...   \n",
      "8  https://api.spotify.com/v1/tracks/5G8pEB1Ms7r5...   \n",
      "9  https://api.spotify.com/v1/tracks/3ZpWy5rBZv2a...   \n",
      "\n",
      "                                        analysis_url  duration_ms  \\\n",
      "0  https://api.spotify.com/v1/audio-analysis/60fU...       269533   \n",
      "1  https://api.spotify.com/v1/audio-analysis/30Kc...       193293   \n",
      "2  https://api.spotify.com/v1/audio-analysis/575u...       210507   \n",
      "3  https://api.spotify.com/v1/audio-analysis/1Bv3...       225787   \n",
      "4  https://api.spotify.com/v1/audio-analysis/19a3...       196040   \n",
      "5  https://api.spotify.com/v1/audio-analysis/0wDg...       241787   \n",
      "6  https://api.spotify.com/v1/audio-analysis/12GE...       220781   \n",
      "7  https://api.spotify.com/v1/audio-analysis/1Z7D...       195133   \n",
      "8  https://api.spotify.com/v1/audio-analysis/5G8p...       245947   \n",
      "9  https://api.spotify.com/v1/audio-analysis/3ZpW...       304893   \n",
      "\n",
      "   time_signature    genre  \n",
      "0               4    metal  \n",
      "1               4  hip hop  \n",
      "2               4    metal  \n",
      "3               4      pop  \n",
      "4               4      pop  \n",
      "5               4    metal  \n",
      "6               4      pop  \n",
      "7               4     rock  \n",
      "8               3    metal  \n",
      "9               4    metal  \n"
     ]
    }
   ],
   "source": [
    "print(trial)"
   ]
  },
  {
   "cell_type": "code",
   "execution_count": null,
   "metadata": {},
   "outputs": [],
   "source": []
  }
 ],
 "metadata": {
  "kernelspec": {
   "display_name": "Python 3",
   "language": "python",
   "name": "python3"
  },
  "language_info": {
   "codemirror_mode": {
    "name": "ipython",
    "version": 3
   },
   "file_extension": ".py",
   "mimetype": "text/x-python",
   "name": "python",
   "nbconvert_exporter": "python",
   "pygments_lexer": "ipython3",
   "version": "3.8.0"
  }
 },
 "nbformat": 4,
 "nbformat_minor": 4
}
